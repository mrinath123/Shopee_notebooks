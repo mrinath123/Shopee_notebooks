{
 "cells": [
  {
   "cell_type": "code",
   "execution_count": 1,
   "id": "operational-horizon",
   "metadata": {
    "execution": {
     "iopub.execute_input": "2021-05-05T05:37:58.518109Z",
     "iopub.status.busy": "2021-05-05T05:37:58.517347Z",
     "iopub.status.idle": "2021-05-05T05:38:06.645099Z",
     "shell.execute_reply": "2021-05-05T05:38:06.644550Z"
    },
    "papermill": {
     "duration": 8.160879,
     "end_time": "2021-05-05T05:38:06.645248",
     "exception": false,
     "start_time": "2021-05-05T05:37:58.484369",
     "status": "completed"
    },
    "tags": []
   },
   "outputs": [
    {
     "data": {
      "text/plain": [
       "device(type='cuda')"
      ]
     },
     "execution_count": 1,
     "metadata": {},
     "output_type": "execute_result"
    }
   ],
   "source": [
    "import numpy as np\n",
    "import matplotlib.pyplot as plt\n",
    "import pandas as pd\n",
    "from scipy import spatial\n",
    "from sklearn import metrics\n",
    "import math\n",
    "import torch\n",
    "import torch.nn as nn\n",
    "from torch.utils.data import Dataset,DataLoader\n",
    "from torchvision.utils import make_grid\n",
    "import torch.nn.functional as F\n",
    "from torch import optim\n",
    "from tqdm import tqdm\n",
    "\n",
    "from sklearn.metrics import accuracy_score\n",
    "from tqdm.notebook import tqdm\n",
    "import cupy\n",
    "from cuml.feature_extraction.text import TfidfVectorizer\n",
    "from cuml.neighbors import NearestNeighbors\n",
    "from cuml import metrics\n",
    "import cudf\n",
    "import torch\n",
    "\n",
    "import albumentations as A\n",
    "from albumentations.pytorch import ToTensorV2\n",
    "import cv2\n",
    "import os\n",
    "\n",
    "import warnings\n",
    "warnings.filterwarnings('ignore')\n",
    "\n",
    "timm_path = \"../input/timm-pytorch-image-models/pytorch-image-models-master\"\n",
    "import sys\n",
    "sys.path.append(timm_path)\n",
    "import timm\n",
    "\n",
    "device = torch.device('cuda' if torch.cuda.is_available() else 'cpu')\n",
    "device"
   ]
  },
  {
   "cell_type": "code",
   "execution_count": 2,
   "id": "otherwise-occasion",
   "metadata": {
    "execution": {
     "iopub.execute_input": "2021-05-05T05:38:06.687655Z",
     "iopub.status.busy": "2021-05-05T05:38:06.687121Z",
     "iopub.status.idle": "2021-05-05T05:38:06.856385Z",
     "shell.execute_reply": "2021-05-05T05:38:06.855541Z"
    },
    "papermill": {
     "duration": 0.19279,
     "end_time": "2021-05-05T05:38:06.856509",
     "exception": false,
     "start_time": "2021-05-05T05:38:06.663719",
     "status": "completed"
    },
    "tags": []
   },
   "outputs": [
    {
     "data": {
      "text/html": [
       "<div>\n",
       "<style scoped>\n",
       "    .dataframe tbody tr th:only-of-type {\n",
       "        vertical-align: middle;\n",
       "    }\n",
       "\n",
       "    .dataframe tbody tr th {\n",
       "        vertical-align: top;\n",
       "    }\n",
       "\n",
       "    .dataframe thead th {\n",
       "        text-align: right;\n",
       "    }\n",
       "</style>\n",
       "<table border=\"1\" class=\"dataframe\">\n",
       "  <thead>\n",
       "    <tr style=\"text-align: right;\">\n",
       "      <th></th>\n",
       "      <th>posting_id</th>\n",
       "      <th>image</th>\n",
       "      <th>image_phash</th>\n",
       "      <th>title</th>\n",
       "      <th>label_group</th>\n",
       "    </tr>\n",
       "  </thead>\n",
       "  <tbody>\n",
       "    <tr>\n",
       "      <th>0</th>\n",
       "      <td>train_129225211</td>\n",
       "      <td>0000a68812bc7e98c42888dfb1c07da0.jpg</td>\n",
       "      <td>94974f937d4c2433</td>\n",
       "      <td>Paper Bag Victoria Secret</td>\n",
       "      <td>249114794</td>\n",
       "    </tr>\n",
       "    <tr>\n",
       "      <th>1</th>\n",
       "      <td>train_3386243561</td>\n",
       "      <td>00039780dfc94d01db8676fe789ecd05.jpg</td>\n",
       "      <td>af3f9460c2838f0f</td>\n",
       "      <td>Double Tape 3M VHB 12 mm x 4,5 m ORIGINAL / DO...</td>\n",
       "      <td>2937985045</td>\n",
       "    </tr>\n",
       "    <tr>\n",
       "      <th>2</th>\n",
       "      <td>train_2288590299</td>\n",
       "      <td>000a190fdd715a2a36faed16e2c65df7.jpg</td>\n",
       "      <td>b94cb00ed3e50f78</td>\n",
       "      <td>Maling TTS Canned Pork Luncheon Meat 397 gr</td>\n",
       "      <td>2395904891</td>\n",
       "    </tr>\n",
       "    <tr>\n",
       "      <th>3</th>\n",
       "      <td>train_2406599165</td>\n",
       "      <td>00117e4fc239b1b641ff08340b429633.jpg</td>\n",
       "      <td>8514fc58eafea283</td>\n",
       "      <td>Daster Batik Lengan pendek - Motif Acak / Camp...</td>\n",
       "      <td>4093212188</td>\n",
       "    </tr>\n",
       "    <tr>\n",
       "      <th>4</th>\n",
       "      <td>train_3369186413</td>\n",
       "      <td>00136d1cf4edede0203f32f05f660588.jpg</td>\n",
       "      <td>a6f319f924ad708c</td>\n",
       "      <td>Nescafe \\xc3\\x89clair Latte 220ml</td>\n",
       "      <td>3648931069</td>\n",
       "    </tr>\n",
       "  </tbody>\n",
       "</table>\n",
       "</div>"
      ],
      "text/plain": [
       "         posting_id                                 image       image_phash  \\\n",
       "0   train_129225211  0000a68812bc7e98c42888dfb1c07da0.jpg  94974f937d4c2433   \n",
       "1  train_3386243561  00039780dfc94d01db8676fe789ecd05.jpg  af3f9460c2838f0f   \n",
       "2  train_2288590299  000a190fdd715a2a36faed16e2c65df7.jpg  b94cb00ed3e50f78   \n",
       "3  train_2406599165  00117e4fc239b1b641ff08340b429633.jpg  8514fc58eafea283   \n",
       "4  train_3369186413  00136d1cf4edede0203f32f05f660588.jpg  a6f319f924ad708c   \n",
       "\n",
       "                                               title  label_group  \n",
       "0                          Paper Bag Victoria Secret    249114794  \n",
       "1  Double Tape 3M VHB 12 mm x 4,5 m ORIGINAL / DO...   2937985045  \n",
       "2        Maling TTS Canned Pork Luncheon Meat 397 gr   2395904891  \n",
       "3  Daster Batik Lengan pendek - Motif Acak / Camp...   4093212188  \n",
       "4                  Nescafe \\xc3\\x89clair Latte 220ml   3648931069  "
      ]
     },
     "execution_count": 2,
     "metadata": {},
     "output_type": "execute_result"
    }
   ],
   "source": [
    "cv = True\n",
    "test = pd.read_csv(\"../input/shopee-product-matching/test.csv\")\n",
    "if(len(test)>3):\n",
    "    cv = False\n",
    "else:\n",
    "    test  = pd.read_csv(\"../input/shopee-product-matching/train.csv\")\n",
    "    test = test.iloc[0:350,:]\n",
    "test.head()"
   ]
  },
  {
   "cell_type": "code",
   "execution_count": 3,
   "id": "finished-directive",
   "metadata": {
    "execution": {
     "iopub.execute_input": "2021-05-05T05:38:06.908473Z",
     "iopub.status.busy": "2021-05-05T05:38:06.907752Z",
     "iopub.status.idle": "2021-05-05T05:38:06.912172Z",
     "shell.execute_reply": "2021-05-05T05:38:06.912573Z"
    },
    "papermill": {
     "duration": 0.037498,
     "end_time": "2021-05-05T05:38:06.912691",
     "exception": false,
     "start_time": "2021-05-05T05:38:06.875193",
     "status": "completed"
    },
    "tags": []
   },
   "outputs": [
    {
     "data": {
      "text/html": [
       "<div>\n",
       "<style scoped>\n",
       "    .dataframe tbody tr th:only-of-type {\n",
       "        vertical-align: middle;\n",
       "    }\n",
       "\n",
       "    .dataframe tbody tr th {\n",
       "        vertical-align: top;\n",
       "    }\n",
       "\n",
       "    .dataframe thead th {\n",
       "        text-align: right;\n",
       "    }\n",
       "</style>\n",
       "<table border=\"1\" class=\"dataframe\">\n",
       "  <thead>\n",
       "    <tr style=\"text-align: right;\">\n",
       "      <th></th>\n",
       "      <th>posting_id</th>\n",
       "      <th>image</th>\n",
       "      <th>image_phash</th>\n",
       "      <th>title</th>\n",
       "      <th>label_group</th>\n",
       "      <th>path</th>\n",
       "    </tr>\n",
       "  </thead>\n",
       "  <tbody>\n",
       "    <tr>\n",
       "      <th>0</th>\n",
       "      <td>train_129225211</td>\n",
       "      <td>0000a68812bc7e98c42888dfb1c07da0.jpg</td>\n",
       "      <td>94974f937d4c2433</td>\n",
       "      <td>Paper Bag Victoria Secret</td>\n",
       "      <td>249114794</td>\n",
       "      <td>../input/shopee-product-matching/train_images/...</td>\n",
       "    </tr>\n",
       "    <tr>\n",
       "      <th>1</th>\n",
       "      <td>train_3386243561</td>\n",
       "      <td>00039780dfc94d01db8676fe789ecd05.jpg</td>\n",
       "      <td>af3f9460c2838f0f</td>\n",
       "      <td>Double Tape 3M VHB 12 mm x 4,5 m ORIGINAL / DO...</td>\n",
       "      <td>2937985045</td>\n",
       "      <td>../input/shopee-product-matching/train_images/...</td>\n",
       "    </tr>\n",
       "    <tr>\n",
       "      <th>2</th>\n",
       "      <td>train_2288590299</td>\n",
       "      <td>000a190fdd715a2a36faed16e2c65df7.jpg</td>\n",
       "      <td>b94cb00ed3e50f78</td>\n",
       "      <td>Maling TTS Canned Pork Luncheon Meat 397 gr</td>\n",
       "      <td>2395904891</td>\n",
       "      <td>../input/shopee-product-matching/train_images/...</td>\n",
       "    </tr>\n",
       "    <tr>\n",
       "      <th>3</th>\n",
       "      <td>train_2406599165</td>\n",
       "      <td>00117e4fc239b1b641ff08340b429633.jpg</td>\n",
       "      <td>8514fc58eafea283</td>\n",
       "      <td>Daster Batik Lengan pendek - Motif Acak / Camp...</td>\n",
       "      <td>4093212188</td>\n",
       "      <td>../input/shopee-product-matching/train_images/...</td>\n",
       "    </tr>\n",
       "    <tr>\n",
       "      <th>4</th>\n",
       "      <td>train_3369186413</td>\n",
       "      <td>00136d1cf4edede0203f32f05f660588.jpg</td>\n",
       "      <td>a6f319f924ad708c</td>\n",
       "      <td>Nescafe \\xc3\\x89clair Latte 220ml</td>\n",
       "      <td>3648931069</td>\n",
       "      <td>../input/shopee-product-matching/train_images/...</td>\n",
       "    </tr>\n",
       "  </tbody>\n",
       "</table>\n",
       "</div>"
      ],
      "text/plain": [
       "         posting_id                                 image       image_phash  \\\n",
       "0   train_129225211  0000a68812bc7e98c42888dfb1c07da0.jpg  94974f937d4c2433   \n",
       "1  train_3386243561  00039780dfc94d01db8676fe789ecd05.jpg  af3f9460c2838f0f   \n",
       "2  train_2288590299  000a190fdd715a2a36faed16e2c65df7.jpg  b94cb00ed3e50f78   \n",
       "3  train_2406599165  00117e4fc239b1b641ff08340b429633.jpg  8514fc58eafea283   \n",
       "4  train_3369186413  00136d1cf4edede0203f32f05f660588.jpg  a6f319f924ad708c   \n",
       "\n",
       "                                               title  label_group  \\\n",
       "0                          Paper Bag Victoria Secret    249114794   \n",
       "1  Double Tape 3M VHB 12 mm x 4,5 m ORIGINAL / DO...   2937985045   \n",
       "2        Maling TTS Canned Pork Luncheon Meat 397 gr   2395904891   \n",
       "3  Daster Batik Lengan pendek - Motif Acak / Camp...   4093212188   \n",
       "4                  Nescafe \\xc3\\x89clair Latte 220ml   3648931069   \n",
       "\n",
       "                                                path  \n",
       "0  ../input/shopee-product-matching/train_images/...  \n",
       "1  ../input/shopee-product-matching/train_images/...  \n",
       "2  ../input/shopee-product-matching/train_images/...  \n",
       "3  ../input/shopee-product-matching/train_images/...  \n",
       "4  ../input/shopee-product-matching/train_images/...  "
      ]
     },
     "execution_count": 3,
     "metadata": {},
     "output_type": "execute_result"
    }
   ],
   "source": [
    "import os\n",
    "if (cv == True):\n",
    "    img_path = '../input/shopee-product-matching/train_images'\n",
    "else:\n",
    "    img_path = \"../input/shopee-product-matching/test_images\"\n",
    "paths = [os.path.join(img_path,x) for x in test.image]\n",
    "test['path'] = paths\n",
    "test.head()"
   ]
  },
  {
   "cell_type": "code",
   "execution_count": 4,
   "id": "intellectual-vintage",
   "metadata": {
    "execution": {
     "iopub.execute_input": "2021-05-05T05:38:06.958721Z",
     "iopub.status.busy": "2021-05-05T05:38:06.957817Z",
     "iopub.status.idle": "2021-05-05T05:38:06.991901Z",
     "shell.execute_reply": "2021-05-05T05:38:06.992288Z"
    },
    "papermill": {
     "duration": 0.060695,
     "end_time": "2021-05-05T05:38:06.992424",
     "exception": false,
     "start_time": "2021-05-05T05:38:06.931729",
     "status": "completed"
    },
    "tags": []
   },
   "outputs": [
    {
     "data": {
      "text/html": [
       "<div>\n",
       "<style scoped>\n",
       "    .dataframe tbody tr th:only-of-type {\n",
       "        vertical-align: middle;\n",
       "    }\n",
       "\n",
       "    .dataframe tbody tr th {\n",
       "        vertical-align: top;\n",
       "    }\n",
       "\n",
       "    .dataframe thead th {\n",
       "        text-align: right;\n",
       "    }\n",
       "</style>\n",
       "<table border=\"1\" class=\"dataframe\">\n",
       "  <thead>\n",
       "    <tr style=\"text-align: right;\">\n",
       "      <th></th>\n",
       "      <th>posting_id</th>\n",
       "      <th>image</th>\n",
       "      <th>image_phash</th>\n",
       "      <th>title</th>\n",
       "      <th>label_group</th>\n",
       "      <th>path</th>\n",
       "      <th>preds4</th>\n",
       "    </tr>\n",
       "  </thead>\n",
       "  <tbody>\n",
       "    <tr>\n",
       "      <th>0</th>\n",
       "      <td>train_129225211</td>\n",
       "      <td>0000a68812bc7e98c42888dfb1c07da0.jpg</td>\n",
       "      <td>94974f937d4c2433</td>\n",
       "      <td>Paper Bag Victoria Secret</td>\n",
       "      <td>249114794</td>\n",
       "      <td>../input/shopee-product-matching/train_images/...</td>\n",
       "      <td>[train_129225211]</td>\n",
       "    </tr>\n",
       "    <tr>\n",
       "      <th>1</th>\n",
       "      <td>train_3386243561</td>\n",
       "      <td>00039780dfc94d01db8676fe789ecd05.jpg</td>\n",
       "      <td>af3f9460c2838f0f</td>\n",
       "      <td>Double Tape 3M VHB 12 mm x 4,5 m ORIGINAL / DO...</td>\n",
       "      <td>2937985045</td>\n",
       "      <td>../input/shopee-product-matching/train_images/...</td>\n",
       "      <td>[train_3386243561]</td>\n",
       "    </tr>\n",
       "    <tr>\n",
       "      <th>2</th>\n",
       "      <td>train_2288590299</td>\n",
       "      <td>000a190fdd715a2a36faed16e2c65df7.jpg</td>\n",
       "      <td>b94cb00ed3e50f78</td>\n",
       "      <td>Maling TTS Canned Pork Luncheon Meat 397 gr</td>\n",
       "      <td>2395904891</td>\n",
       "      <td>../input/shopee-product-matching/train_images/...</td>\n",
       "      <td>[train_2288590299]</td>\n",
       "    </tr>\n",
       "    <tr>\n",
       "      <th>3</th>\n",
       "      <td>train_2406599165</td>\n",
       "      <td>00117e4fc239b1b641ff08340b429633.jpg</td>\n",
       "      <td>8514fc58eafea283</td>\n",
       "      <td>Daster Batik Lengan pendek - Motif Acak / Camp...</td>\n",
       "      <td>4093212188</td>\n",
       "      <td>../input/shopee-product-matching/train_images/...</td>\n",
       "      <td>[train_2406599165]</td>\n",
       "    </tr>\n",
       "    <tr>\n",
       "      <th>4</th>\n",
       "      <td>train_3369186413</td>\n",
       "      <td>00136d1cf4edede0203f32f05f660588.jpg</td>\n",
       "      <td>a6f319f924ad708c</td>\n",
       "      <td>Nescafe \\xc3\\x89clair Latte 220ml</td>\n",
       "      <td>3648931069</td>\n",
       "      <td>../input/shopee-product-matching/train_images/...</td>\n",
       "      <td>[train_3369186413]</td>\n",
       "    </tr>\n",
       "  </tbody>\n",
       "</table>\n",
       "</div>"
      ],
      "text/plain": [
       "         posting_id                                 image       image_phash  \\\n",
       "0   train_129225211  0000a68812bc7e98c42888dfb1c07da0.jpg  94974f937d4c2433   \n",
       "1  train_3386243561  00039780dfc94d01db8676fe789ecd05.jpg  af3f9460c2838f0f   \n",
       "2  train_2288590299  000a190fdd715a2a36faed16e2c65df7.jpg  b94cb00ed3e50f78   \n",
       "3  train_2406599165  00117e4fc239b1b641ff08340b429633.jpg  8514fc58eafea283   \n",
       "4  train_3369186413  00136d1cf4edede0203f32f05f660588.jpg  a6f319f924ad708c   \n",
       "\n",
       "                                               title  label_group  \\\n",
       "0                          Paper Bag Victoria Secret    249114794   \n",
       "1  Double Tape 3M VHB 12 mm x 4,5 m ORIGINAL / DO...   2937985045   \n",
       "2        Maling TTS Canned Pork Luncheon Meat 397 gr   2395904891   \n",
       "3  Daster Batik Lengan pendek - Motif Acak / Camp...   4093212188   \n",
       "4                  Nescafe \\xc3\\x89clair Latte 220ml   3648931069   \n",
       "\n",
       "                                                path              preds4  \n",
       "0  ../input/shopee-product-matching/train_images/...   [train_129225211]  \n",
       "1  ../input/shopee-product-matching/train_images/...  [train_3386243561]  \n",
       "2  ../input/shopee-product-matching/train_images/...  [train_2288590299]  \n",
       "3  ../input/shopee-product-matching/train_images/...  [train_2406599165]  \n",
       "4  ../input/shopee-product-matching/train_images/...  [train_3369186413]  "
      ]
     },
     "execution_count": 4,
     "metadata": {},
     "output_type": "execute_result"
    }
   ],
   "source": [
    "tmp = test.groupby('image_phash').posting_id.agg('unique').to_dict()\n",
    "test['preds4'] = test.image_phash.map(tmp)\n",
    "test.head()"
   ]
  },
  {
   "cell_type": "code",
   "execution_count": 5,
   "id": "advisory-prisoner",
   "metadata": {
    "execution": {
     "iopub.execute_input": "2021-05-05T05:38:07.047170Z",
     "iopub.status.busy": "2021-05-05T05:38:07.046398Z",
     "iopub.status.idle": "2021-05-05T05:38:07.049113Z",
     "shell.execute_reply": "2021-05-05T05:38:07.048678Z"
    },
    "papermill": {
     "duration": 0.037158,
     "end_time": "2021-05-05T05:38:07.049223",
     "exception": false,
     "start_time": "2021-05-05T05:38:07.012065",
     "status": "completed"
    },
    "tags": []
   },
   "outputs": [],
   "source": [
    "class GeM2(nn.Module):\n",
    "    def __init__(self, p=3, eps=1e-6):\n",
    "        super(GeM2,self).__init__()\n",
    "        self.p = nn.Parameter(torch.ones(1)*p)\n",
    "        self.eps = eps\n",
    "\n",
    "    def forward(self, x):\n",
    "        return self.gem(x, p=self.p, eps=self.eps)\n",
    "        \n",
    "    def gem(self, x, p=3, eps=1e-6):\n",
    "        return F.avg_pool2d(x.clamp(min=eps).pow(p), (x.size(-2), x.size(-1))).pow(1./p)\n",
    "        \n",
    "    def __repr__(self):\n",
    "        return self.__class__.__name__ + '(' + 'p=' + '{:.4f}'.format(self.p.data.tolist()[0]) + ', ' + 'eps=' + str(self.eps) + ')'\n",
    "class ArcModule(nn.Module):\n",
    "    def __init__(self, in_features, out_features, s = 10, m = 0.5):\n",
    "        super().__init__()\n",
    "        self.in_features = in_features\n",
    "        self.out_features = out_features\n",
    "        self.s = s\n",
    "        self.m = m\n",
    "        self.weight = nn.Parameter(torch.FloatTensor(out_features, in_features))\n",
    "        nn.init.xavier_normal_(self.weight)\n",
    "\n",
    "        self.cos_m = math.cos(m)\n",
    "        self.sin_m = math.sin(m)\n",
    "        self.th = torch.tensor(math.cos(math.pi - m))\n",
    "        self.mm = torch.tensor(math.sin(math.pi - m) * m)\n",
    "        \n",
    "      \n",
    "\n",
    "    def forward(self, inputs, labels=None):\n",
    "        cos_th = F.linear(inputs, F.normalize(self.weight))\n",
    "        cos_th = cos_th.clamp(-1, 1) \n",
    "        sin_th = torch.sqrt(1.0 - torch.pow(cos_th, 2)+ 1e-7)\n",
    "        cos_th_m = cos_th * self.cos_m - sin_th * self.sin_m\n",
    "        # print(type(cos_th), type(self.th), type(cos_th_m), type(self.mm))\n",
    "        cos_th_m = torch.where(cos_th > self.th, cos_th_m, cos_th - self.mm)\n",
    "\n",
    "        cond_v = cos_th - self.th\n",
    "        cond = cond_v <= 0\n",
    "        cos_th_m[cond] = (cos_th - self.mm)[cond]\n",
    "\n",
    "        if labels.dim() == 1:\n",
    "            labels = labels.unsqueeze(-1)\n",
    "        onehot = torch.zeros(cos_th.size()).to(device)\n",
    "        labels = labels.type(torch.LongTensor).to(device)\n",
    "        onehot.scatter_(1, labels, 1.0)\n",
    "        outputs = onehot * cos_th_m + (1.0 - onehot) * cos_th\n",
    "        outputs = outputs * self.s\n",
    "        return outputs"
   ]
  },
  {
   "cell_type": "code",
   "execution_count": 6,
   "id": "compliant-inclusion",
   "metadata": {
    "execution": {
     "iopub.execute_input": "2021-05-05T05:38:07.098688Z",
     "iopub.status.busy": "2021-05-05T05:38:07.097790Z",
     "iopub.status.idle": "2021-05-05T05:38:07.100006Z",
     "shell.execute_reply": "2021-05-05T05:38:07.100432Z"
    },
    "papermill": {
     "duration": 0.031682,
     "end_time": "2021-05-05T05:38:07.100578",
     "exception": false,
     "start_time": "2021-05-05T05:38:07.068896",
     "status": "completed"
    },
    "tags": []
   },
   "outputs": [],
   "source": [
    "class Model1(nn.Module):\n",
    "    def __init__(self,network,output_size = 11014 ,pretrained=False):\n",
    "        super().__init__()\n",
    "        self.op = output_size\n",
    "        self.network = network\n",
    "        self.backbone = timm.create_model(self.network , features_only=True, pretrained=pretrained)\n",
    "        self.gem2 = GeM2()\n",
    "        self.fc1 = nn.Linear(2048,512)\n",
    "        self.do = nn.Dropout(p=0.25)\n",
    "        self.bn1 = nn.BatchNorm1d(2048)\n",
    "        self.bn2 = nn.BatchNorm1d(512)\n",
    "        self.pl = nn.PReLU()\n",
    "        self.margin = ArcModule(in_features=512, out_features = self.op)\n",
    "        \n",
    "        nn.init.kaiming_normal_(self.fc1.weight)\n",
    "        nn.init.zeros_(self.fc1.bias)\n",
    "\n",
    "    def forward(self,x,labels=None):\n",
    "        y = self.backbone(x)\n",
    "        #y1 = self.gem1(y[2])\n",
    "        y2 = self.gem2(y[4])\n",
    "        \n",
    "        #y1 = y1.view(x.shape[0],-1)\n",
    "        y2 = y2.view(x.shape[0],-1)\n",
    "        y2 = self.bn1(y2)\n",
    "        \n",
    "        #concat = torch.cat((y1,y2),dim = 1)\n",
    "        fc1 = self.do(self.fc1(y2))\n",
    "        feat1 = self.bn2(fc1)\n",
    "        feat2 =  F.normalize(feat1)\n",
    "        if labels is not None:\n",
    "            return self.margin(feat2, labels)\n",
    "        else:\n",
    "            return feat2\n"
   ]
  },
  {
   "cell_type": "code",
   "execution_count": 7,
   "id": "ignored-recording",
   "metadata": {
    "execution": {
     "iopub.execute_input": "2021-05-05T05:38:07.146334Z",
     "iopub.status.busy": "2021-05-05T05:38:07.145476Z",
     "iopub.status.idle": "2021-05-05T05:38:07.147563Z",
     "shell.execute_reply": "2021-05-05T05:38:07.148108Z"
    },
    "papermill": {
     "duration": 0.027641,
     "end_time": "2021-05-05T05:38:07.148256",
     "exception": false,
     "start_time": "2021-05-05T05:38:07.120615",
     "status": "completed"
    },
    "tags": []
   },
   "outputs": [],
   "source": [
    "train_aug = A.Compose(\n",
    "    [  \n",
    "\n",
    "        A.Resize(512,512,p=1.0),\n",
    "     A.Normalize(p=1.0),\n",
    "        ToTensorV2(p=1.0)\n",
    "    ]\n",
    ")"
   ]
  },
  {
   "cell_type": "code",
   "execution_count": 8,
   "id": "injured-poverty",
   "metadata": {
    "execution": {
     "iopub.execute_input": "2021-05-05T05:38:07.195728Z",
     "iopub.status.busy": "2021-05-05T05:38:07.194913Z",
     "iopub.status.idle": "2021-05-05T05:38:07.197609Z",
     "shell.execute_reply": "2021-05-05T05:38:07.197192Z"
    },
    "papermill": {
     "duration": 0.029215,
     "end_time": "2021-05-05T05:38:07.197755",
     "exception": false,
     "start_time": "2021-05-05T05:38:07.168540",
     "status": "completed"
    },
    "tags": []
   },
   "outputs": [],
   "source": [
    "class Shop(Dataset):\n",
    "    def __init__(self,df,augs=None):\n",
    "        self.df = df\n",
    "        self.augs = augs\n",
    "    \n",
    "    def __len__(self):\n",
    "        return len(self.df)\n",
    "    \n",
    "    def __getitem__(self,idx):\n",
    "        img_src = self.df.path.iloc[idx]\n",
    "        image = cv2.imread(img_src)\n",
    "        image = cv2.cvtColor(image, cv2.COLOR_BGR2RGB).astype(np.uint8)\n",
    "\n",
    "        if (self.augs):\n",
    "            transformed = self.augs(image=image)\n",
    "            image = transformed['image']\n",
    "        \n",
    "        return image"
   ]
  },
  {
   "cell_type": "code",
   "execution_count": 9,
   "id": "valid-portland",
   "metadata": {
    "execution": {
     "iopub.execute_input": "2021-05-05T05:38:07.246210Z",
     "iopub.status.busy": "2021-05-05T05:38:07.245367Z",
     "iopub.status.idle": "2021-05-05T05:38:07.247924Z",
     "shell.execute_reply": "2021-05-05T05:38:07.247461Z"
    },
    "papermill": {
     "duration": 0.030001,
     "end_time": "2021-05-05T05:38:07.248046",
     "exception": false,
     "start_time": "2021-05-05T05:38:07.218045",
     "status": "completed"
    },
    "tags": []
   },
   "outputs": [],
   "source": [
    "da = Shop(test,augs=train_aug)\n",
    "loader =  DataLoader(da,shuffle=False,\n",
    "                        num_workers=4,\n",
    "                        batch_size=16,\n",
    "                        pin_memory=True)\n",
    "\n",
    "\n",
    "def generate_test_features(test_loader,M, path):\n",
    "    mod =  M\n",
    "    WEIGHTS_FILE = path\n",
    "    mod.load_state_dict(torch.load(WEIGHTS_FILE))\n",
    "    mod.to(device)\n",
    "    mod.eval()\n",
    "    bar = tqdm(test_loader)\n",
    "    \n",
    "    FEAS = []\n",
    "\n",
    "    with torch.no_grad():\n",
    "        for batch_idx, (images) in enumerate(bar):\n",
    "\n",
    "            images = images.to(device)\n",
    "\n",
    "            features = mod(images)\n",
    "\n",
    "            FEAS += [features.detach().cpu()]\n",
    "\n",
    "    FEAS = torch.cat(FEAS).cpu().numpy()\n",
    "    \n",
    "    del mod\n",
    "    \n",
    "    return FEAS"
   ]
  },
  {
   "cell_type": "code",
   "execution_count": 10,
   "id": "elegant-connectivity",
   "metadata": {
    "execution": {
     "iopub.execute_input": "2021-05-05T05:38:07.292389Z",
     "iopub.status.busy": "2021-05-05T05:38:07.291851Z",
     "iopub.status.idle": "2021-05-05T05:38:38.492023Z",
     "shell.execute_reply": "2021-05-05T05:38:38.492499Z"
    },
    "papermill": {
     "duration": 31.224383,
     "end_time": "2021-05-05T05:38:38.492654",
     "exception": false,
     "start_time": "2021-05-05T05:38:07.268271",
     "status": "completed"
    },
    "tags": []
   },
   "outputs": [
    {
     "data": {
      "application/vnd.jupyter.widget-view+json": {
       "model_id": "85aa48a8c10541f1ad2f0e1b45852a36",
       "version_major": 2,
       "version_minor": 0
      },
      "text/plain": [
       "  0%|          | 0/22 [00:00<?, ?it/s]"
      ]
     },
     "metadata": {},
     "output_type": "display_data"
    },
    {
     "data": {
      "application/vnd.jupyter.widget-view+json": {
       "model_id": "88d37850f5474a7fa69db0a5706119bf",
       "version_major": 2,
       "version_minor": 0
      },
      "text/plain": [
       "  0%|          | 0/22 [00:00<?, ?it/s]"
      ]
     },
     "metadata": {},
     "output_type": "display_data"
    }
   ],
   "source": [
    "FEAS1 = generate_test_features(loader,Model1('seresnet50'), \"../input/serex-123/imageT123_seresnext.pth\")\n",
    "FEAS2 =generate_test_features(loader,Model1('res2next50') ,\"../input/re2net-even/image_modelTeven_512_res2.pth\")"
   ]
  },
  {
   "cell_type": "code",
   "execution_count": 11,
   "id": "injured-bracelet",
   "metadata": {
    "execution": {
     "iopub.execute_input": "2021-05-05T05:38:38.539001Z",
     "iopub.status.busy": "2021-05-05T05:38:38.538510Z",
     "iopub.status.idle": "2021-05-05T05:38:38.543863Z",
     "shell.execute_reply": "2021-05-05T05:38:38.543393Z"
    },
    "papermill": {
     "duration": 0.029816,
     "end_time": "2021-05-05T05:38:38.543979",
     "exception": false,
     "start_time": "2021-05-05T05:38:38.514163",
     "status": "completed"
    },
    "tags": []
   },
   "outputs": [],
   "source": [
    "FEASY = (FEAS1 + FEAS2)/2\n",
    "del FEAS1,FEAS2"
   ]
  },
  {
   "cell_type": "code",
   "execution_count": 12,
   "id": "focal-silly",
   "metadata": {
    "execution": {
     "iopub.execute_input": "2021-05-05T05:38:38.595208Z",
     "iopub.status.busy": "2021-05-05T05:38:38.594480Z",
     "iopub.status.idle": "2021-05-05T05:38:38.597123Z",
     "shell.execute_reply": "2021-05-05T05:38:38.596617Z"
    },
    "papermill": {
     "duration": 0.032029,
     "end_time": "2021-05-05T05:38:38.597225",
     "exception": false,
     "start_time": "2021-05-05T05:38:38.565196",
     "status": "completed"
    },
    "tags": []
   },
   "outputs": [],
   "source": [
    "class Rare_Model(nn.Module):\n",
    "    def __init__(self,output_size =10 ,pretrained=False):\n",
    "        super().__init__()\n",
    "        self.op = output_size\n",
    "        self.backbone = timm.create_model('tf_efficientnet_b2_ns', features_only=True, \n",
    "                                          pretrained=pretrained)\n",
    "        self.gem2 = GeM2()\n",
    "        self.fc1 = nn.Linear(352,144)\n",
    "        self.fc2 = nn.Linear(144,self.op)\n",
    "        self.do = nn.Dropout(p=0.25)\n",
    "        self.bn1 = nn.BatchNorm1d(352)\n",
    "        self.bn2 = nn.BatchNorm1d(144)\n",
    "        self.pl = nn.PReLU()\n",
    "        \n",
    "        nn.init.kaiming_normal_(self.fc1.weight)\n",
    "        nn.init.zeros_(self.fc1.bias)\n",
    "\n",
    "    def forward(self,x,labels=None):\n",
    "        y = self.backbone(x)\n",
    "        #y1 = self.gem1(y[2])\n",
    "        y2 = self.gem2(y[4])\n",
    "        \n",
    "        #y1 = y1.view(x.shape[0],-1)\n",
    "        y2 = y2.view(x.shape[0],-1)\n",
    "        y2 = self.bn1(y2)\n",
    "        \n",
    "        #concat = torch.cat((y1,y2),dim = 1)\n",
    "        fc1 = self.do(self.fc1(y2))\n",
    "        feat1 = self.pl(self.bn2(fc1))\n",
    "        \n",
    "        feat1 = self.fc2(feat1)\n",
    "        \n",
    "        return feat1"
   ]
  },
  {
   "cell_type": "code",
   "execution_count": 13,
   "id": "directed-corps",
   "metadata": {
    "execution": {
     "iopub.execute_input": "2021-05-05T05:38:38.646028Z",
     "iopub.status.busy": "2021-05-05T05:38:38.645339Z",
     "iopub.status.idle": "2021-05-05T05:38:38.648012Z",
     "shell.execute_reply": "2021-05-05T05:38:38.647623Z"
    },
    "papermill": {
     "duration": 0.029794,
     "end_time": "2021-05-05T05:38:38.648129",
     "exception": false,
     "start_time": "2021-05-05T05:38:38.618335",
     "status": "completed"
    },
    "tags": []
   },
   "outputs": [],
   "source": [
    "def generate_rarity(test_loader,M, path):\n",
    "    mod =  M\n",
    "    WEIGHTS_FILE = path\n",
    "    mod.load_state_dict(torch.load(WEIGHTS_FILE))\n",
    "    mod.to(device)\n",
    "    mod.eval()\n",
    "    bar = tqdm(test_loader)\n",
    "    \n",
    "    FEAS = []\n",
    "\n",
    "    with torch.no_grad():\n",
    "        for batch_idx, (images) in enumerate(bar):\n",
    "\n",
    "            images = images.to(device)\n",
    "\n",
    "            output = mod(images)\n",
    "            output = output.softmax(1)\n",
    "            outputs = torch.argmax(output, dim=1)\n",
    "\n",
    "            FEAS += [outputs.detach().cpu()]\n",
    "\n",
    "    FEAS = torch.cat(FEAS).cpu().numpy()\n",
    "    \n",
    "    del mod\n",
    "    \n",
    "    return FEAS"
   ]
  },
  {
   "cell_type": "code",
   "execution_count": 14,
   "id": "fiscal-carnival",
   "metadata": {
    "execution": {
     "iopub.execute_input": "2021-05-05T05:38:38.695452Z",
     "iopub.status.busy": "2021-05-05T05:38:38.694664Z",
     "iopub.status.idle": "2021-05-05T05:38:47.327278Z",
     "shell.execute_reply": "2021-05-05T05:38:47.326515Z"
    },
    "papermill": {
     "duration": 8.658111,
     "end_time": "2021-05-05T05:38:47.327402",
     "exception": false,
     "start_time": "2021-05-05T05:38:38.669291",
     "status": "completed"
    },
    "tags": []
   },
   "outputs": [
    {
     "data": {
      "application/vnd.jupyter.widget-view+json": {
       "model_id": "55d83b72b07f47f1ad80294df1028a5b",
       "version_major": 2,
       "version_minor": 0
      },
      "text/plain": [
       "  0%|          | 0/22 [00:00<?, ?it/s]"
      ]
     },
     "metadata": {},
     "output_type": "display_data"
    }
   ],
   "source": [
    "FEASR = generate_rarity(loader,Rare_Model(), \"../input/last-exp/Fold 0 model with val_acc 0.8086131386861314.pth\")"
   ]
  },
  {
   "cell_type": "code",
   "execution_count": 15,
   "id": "muslim-sculpture",
   "metadata": {
    "execution": {
     "iopub.execute_input": "2021-05-05T05:38:47.376358Z",
     "iopub.status.busy": "2021-05-05T05:38:47.375658Z",
     "iopub.status.idle": "2021-05-05T05:38:47.378492Z",
     "shell.execute_reply": "2021-05-05T05:38:47.378065Z"
    },
    "papermill": {
     "duration": 0.028933,
     "end_time": "2021-05-05T05:38:47.378593",
     "exception": false,
     "start_time": "2021-05-05T05:38:47.349660",
     "status": "completed"
    },
    "tags": []
   },
   "outputs": [],
   "source": [
    "def thres_func(x):\n",
    "    if (x<1):\n",
    "        return 0.69\n",
    "    elif (1<=x<6):\n",
    "        return 0.8\n",
    "    else:\n",
    "        return 0.85\n",
    "    "
   ]
  },
  {
   "cell_type": "code",
   "execution_count": 16,
   "id": "statutory-attitude",
   "metadata": {
    "execution": {
     "iopub.execute_input": "2021-05-05T05:38:47.426453Z",
     "iopub.status.busy": "2021-05-05T05:38:47.425268Z",
     "iopub.status.idle": "2021-05-05T05:38:47.428052Z",
     "shell.execute_reply": "2021-05-05T05:38:47.427572Z"
    },
    "papermill": {
     "duration": 0.028105,
     "end_time": "2021-05-05T05:38:47.428168",
     "exception": false,
     "start_time": "2021-05-05T05:38:47.400063",
     "status": "completed"
    },
    "tags": []
   },
   "outputs": [],
   "source": [
    "vfunc = np.vectorize(thres_func)"
   ]
  },
  {
   "cell_type": "code",
   "execution_count": 17,
   "id": "surgical-aspect",
   "metadata": {
    "execution": {
     "iopub.execute_input": "2021-05-05T05:38:47.475125Z",
     "iopub.status.busy": "2021-05-05T05:38:47.474631Z",
     "iopub.status.idle": "2021-05-05T05:38:47.477881Z",
     "shell.execute_reply": "2021-05-05T05:38:47.478370Z"
    },
    "papermill": {
     "duration": 0.02866,
     "end_time": "2021-05-05T05:38:47.478492",
     "exception": false,
     "start_time": "2021-05-05T05:38:47.449832",
     "status": "completed"
    },
    "tags": []
   },
   "outputs": [],
   "source": [
    "th = vfunc(FEASR)\n",
    "del FEASR"
   ]
  },
  {
   "cell_type": "code",
   "execution_count": 18,
   "id": "contemporary-season",
   "metadata": {
    "execution": {
     "iopub.execute_input": "2021-05-05T05:38:47.525265Z",
     "iopub.status.busy": "2021-05-05T05:38:47.524478Z",
     "iopub.status.idle": "2021-05-05T05:38:47.529300Z",
     "shell.execute_reply": "2021-05-05T05:38:47.528880Z"
    },
    "papermill": {
     "duration": 0.029233,
     "end_time": "2021-05-05T05:38:47.529396",
     "exception": false,
     "start_time": "2021-05-05T05:38:47.500163",
     "status": "completed"
    },
    "tags": []
   },
   "outputs": [],
   "source": [
    "FEASY =  np.concatenate((FEASY,np.expand_dims(th, axis=1)),axis=1)"
   ]
  },
  {
   "cell_type": "code",
   "execution_count": 19,
   "id": "effective-nebraska",
   "metadata": {
    "execution": {
     "iopub.execute_input": "2021-05-05T05:38:47.754679Z",
     "iopub.status.busy": "2021-05-05T05:38:47.753917Z",
     "iopub.status.idle": "2021-05-05T05:38:47.757653Z",
     "shell.execute_reply": "2021-05-05T05:38:47.757199Z"
    },
    "papermill": {
     "duration": 0.206462,
     "end_time": "2021-05-05T05:38:47.757769",
     "exception": false,
     "start_time": "2021-05-05T05:38:47.551307",
     "status": "completed"
    },
    "tags": []
   },
   "outputs": [],
   "source": [
    "import gc\n",
    "def similar(FEAS):\n",
    "    preds = []\n",
    "    CHUNK = 900\n",
    "#te = ar[:,1:]\n",
    "    print('Finding similar titles...')\n",
    "    CTS = len(test)//CHUNK\n",
    "    if len(test)%CHUNK!=0: CTS += 1\n",
    "    for j in range( CTS ):\n",
    "        a = j*CHUNK\n",
    "        b = (j+1)*CHUNK\n",
    "        b = min(b,len(test))\n",
    "        print('chunk',a,'to',b)\n",
    "        cts = metrics.pairwise_distances(FEAS[:,:-1][a:b],FEAS[:,:-1], metric='cosine')\n",
    "        cts = 1-cts\n",
    "        for k in range(b-a):\n",
    "            IDX = np.where(cts[k,]>FEAS[a:b][:,-1][k])[0]\n",
    "            o = test.iloc[cupy.asnumpy(IDX)].posting_id.values\n",
    "            preds.append(o)\n",
    "            \n",
    "   \n",
    "    \n",
    "    return preds\n",
    "\n",
    "#del te,dx,modelx\n",
    "_ = gc.collect()"
   ]
  },
  {
   "cell_type": "code",
   "execution_count": 20,
   "id": "major-jonathan",
   "metadata": {
    "execution": {
     "iopub.execute_input": "2021-05-05T05:38:47.807788Z",
     "iopub.status.busy": "2021-05-05T05:38:47.807268Z",
     "iopub.status.idle": "2021-05-05T05:38:47.906190Z",
     "shell.execute_reply": "2021-05-05T05:38:47.906607Z"
    },
    "papermill": {
     "duration": 0.126331,
     "end_time": "2021-05-05T05:38:47.906751",
     "exception": false,
     "start_time": "2021-05-05T05:38:47.780420",
     "status": "completed"
    },
    "tags": []
   },
   "outputs": [
    {
     "name": "stdout",
     "output_type": "stream",
     "text": [
      "Finding similar titles...\n",
      "chunk 0 to 350\n"
     ]
    }
   ],
   "source": [
    "\n",
    "test['preds1'] = similar(FEASY)\n",
    "del FEASY"
   ]
  },
  {
   "cell_type": "code",
   "execution_count": 21,
   "id": "higher-petersburg",
   "metadata": {
    "execution": {
     "iopub.execute_input": "2021-05-05T05:38:48.045048Z",
     "iopub.status.busy": "2021-05-05T05:38:48.043701Z",
     "iopub.status.idle": "2021-05-05T05:38:48.046112Z",
     "shell.execute_reply": "2021-05-05T05:38:48.046484Z"
    },
    "papermill": {
     "duration": 0.11674,
     "end_time": "2021-05-05T05:38:48.046628",
     "exception": false,
     "start_time": "2021-05-05T05:38:47.929888",
     "status": "completed"
    },
    "tags": []
   },
   "outputs": [],
   "source": [
    "torch.cuda.empty_cache()"
   ]
  },
  {
   "cell_type": "code",
   "execution_count": 22,
   "id": "ideal-guidance",
   "metadata": {
    "execution": {
     "iopub.execute_input": "2021-05-05T05:38:48.105683Z",
     "iopub.status.busy": "2021-05-05T05:38:48.099958Z",
     "iopub.status.idle": "2021-05-05T05:39:07.063266Z",
     "shell.execute_reply": "2021-05-05T05:39:07.062779Z"
    },
    "papermill": {
     "duration": 18.99372,
     "end_time": "2021-05-05T05:39:07.063399",
     "exception": false,
     "start_time": "2021-05-05T05:38:48.069679",
     "status": "completed"
    },
    "tags": []
   },
   "outputs": [
    {
     "name": "stdout",
     "output_type": "stream",
     "text": [
      "text embeddings shape (350, 250)\n",
      "(350, 251)\n",
      "Finding similar titles...\n",
      "chunk 0 to 350\n"
     ]
    }
   ],
   "source": [
    "df_cu = cudf.DataFrame(test)\n",
    "if (cv == True):\n",
    "    odel = TfidfVectorizer(stop_words = 'english', binary = True, max_features = 250)\n",
    "    text_embeddings = odel.fit_transform(df_cu.title).toarray()\n",
    "    print('text embeddings shape',text_embeddings.shape)\n",
    "else:\n",
    "    odel = TfidfVectorizer(stop_words = 'english', binary = True, max_features = 25_000)\n",
    "    text_embeddings = odel.fit_transform(df_cu.title).toarray()\n",
    "    print('text embeddings shape',text_embeddings.shape)\n",
    "\n",
    "text_embeddings =  cupy.concatenate((text_embeddings,cupy.expand_dims(cupy.array(th), axis=1)),axis=1)\n",
    "print(text_embeddings.shape)\n",
    "predsx = []\n",
    "CHUNK = 1024\n",
    "\n",
    "print('Finding similar titles...')\n",
    "CTS = len(test)//CHUNK\n",
    "if len(test)%CHUNK!=0: CTS += 1\n",
    "for j in range( CTS ):\n",
    "    a = j*CHUNK\n",
    "    b = (j+1)*CHUNK\n",
    "    b = min(b,len(test))\n",
    "    print('chunk',a,'to',b)\n",
    "\n",
    "        # COSINE SIMILARITY DISTANCE\n",
    "    cts = cupy.matmul( text_embeddings[:,:-1], text_embeddings[:,:-1][a:b].T).T\n",
    "\n",
    "    for k in range(b-a):\n",
    "        IDX = cupy.where(cts[k,]>text_embeddings[a:b][:,-1][k])[0]\n",
    "        o = test.iloc[cupy.asnumpy(IDX)].posting_id.values\n",
    "        predsx.append(o)\n",
    "    \n",
    "del odel,text_embeddings,df_cu\n",
    "_ = gc.collect()"
   ]
  },
  {
   "cell_type": "code",
   "execution_count": 23,
   "id": "arabic-hardware",
   "metadata": {
    "execution": {
     "iopub.execute_input": "2021-05-05T05:39:07.116341Z",
     "iopub.status.busy": "2021-05-05T05:39:07.115623Z",
     "iopub.status.idle": "2021-05-05T05:39:07.118383Z",
     "shell.execute_reply": "2021-05-05T05:39:07.117963Z"
    },
    "papermill": {
     "duration": 0.031243,
     "end_time": "2021-05-05T05:39:07.118492",
     "exception": false,
     "start_time": "2021-05-05T05:39:07.087249",
     "status": "completed"
    },
    "tags": []
   },
   "outputs": [],
   "source": [
    "test['preds2'] =  predsx\n",
    "del predsx"
   ]
  },
  {
   "cell_type": "code",
   "execution_count": 24,
   "id": "answering-commons",
   "metadata": {
    "execution": {
     "iopub.execute_input": "2021-05-05T05:39:07.308690Z",
     "iopub.status.busy": "2021-05-05T05:39:07.307830Z",
     "iopub.status.idle": "2021-05-05T05:39:07.310433Z",
     "shell.execute_reply": "2021-05-05T05:39:07.310014Z"
    },
    "papermill": {
     "duration": 0.168757,
     "end_time": "2021-05-05T05:39:07.310563",
     "exception": false,
     "start_time": "2021-05-05T05:39:07.141806",
     "status": "completed"
    },
    "tags": []
   },
   "outputs": [],
   "source": [
    "_ = gc.collect()"
   ]
  },
  {
   "cell_type": "code",
   "execution_count": 25,
   "id": "floating-writer",
   "metadata": {
    "execution": {
     "iopub.execute_input": "2021-05-05T05:39:07.361918Z",
     "iopub.status.busy": "2021-05-05T05:39:07.361267Z",
     "iopub.status.idle": "2021-05-05T05:39:07.363629Z",
     "shell.execute_reply": "2021-05-05T05:39:07.364054Z"
    },
    "papermill": {
     "duration": 0.029546,
     "end_time": "2021-05-05T05:39:07.364197",
     "exception": false,
     "start_time": "2021-05-05T05:39:07.334651",
     "status": "completed"
    },
    "tags": []
   },
   "outputs": [],
   "source": [
    "torch.cuda.empty_cache()"
   ]
  },
  {
   "cell_type": "code",
   "execution_count": 26,
   "id": "unusual-handbook",
   "metadata": {
    "execution": {
     "iopub.execute_input": "2021-05-05T05:39:07.421442Z",
     "iopub.status.busy": "2021-05-05T05:39:07.420672Z",
     "iopub.status.idle": "2021-05-05T05:39:07.487647Z",
     "shell.execute_reply": "2021-05-05T05:39:07.488233Z"
    },
    "papermill": {
     "duration": 0.100724,
     "end_time": "2021-05-05T05:39:07.488389",
     "exception": false,
     "start_time": "2021-05-05T05:39:07.387665",
     "status": "completed"
    },
    "tags": []
   },
   "outputs": [
    {
     "name": "stdout",
     "output_type": "stream",
     "text": [
      "CV Score = 0.9154285714285714\n"
     ]
    }
   ],
   "source": [
    "def getMetric(col):\n",
    "    def f1score(row):\n",
    "        n = len( np.intersect1d(row.target,row[col]) )\n",
    "        return 2*n / (len(row.target)+len(row[col]))\n",
    "    return f1score\n",
    "def combine_for_sub(row):\n",
    "    x = np.concatenate([row.preds2,row.preds1,row.preds4])\n",
    "    return ' '.join( np.unique(x) )\n",
    "\n",
    "def combine_for_cv(row):\n",
    "    x = np.concatenate([row.preds2,row.preds1,row.preds4])\n",
    "    return np.unique(x)\n",
    "tmp = test.groupby('label_group').posting_id.agg('unique').to_dict()\n",
    "test['target'] = test.label_group.map(tmp)\n",
    "test['oof'] = test.apply(combine_for_cv,axis=1)\n",
    "test['f1'] = test.apply(getMetric('oof'),axis=1)\n",
    "print('CV Score =', test.f1.mean() )"
   ]
  },
  {
   "cell_type": "code",
   "execution_count": 27,
   "id": "piano-horse",
   "metadata": {
    "execution": {
     "iopub.execute_input": "2021-05-05T05:39:07.586913Z",
     "iopub.status.busy": "2021-05-05T05:39:07.586448Z",
     "iopub.status.idle": "2021-05-05T05:39:07.592782Z",
     "shell.execute_reply": "2021-05-05T05:39:07.591907Z"
    },
    "papermill": {
     "duration": 0.080026,
     "end_time": "2021-05-05T05:39:07.592897",
     "exception": false,
     "start_time": "2021-05-05T05:39:07.512871",
     "status": "completed"
    },
    "tags": []
   },
   "outputs": [
    {
     "data": {
      "text/html": [
       "<div>\n",
       "<style scoped>\n",
       "    .dataframe tbody tr th:only-of-type {\n",
       "        vertical-align: middle;\n",
       "    }\n",
       "\n",
       "    .dataframe tbody tr th {\n",
       "        vertical-align: top;\n",
       "    }\n",
       "\n",
       "    .dataframe thead th {\n",
       "        text-align: right;\n",
       "    }\n",
       "</style>\n",
       "<table border=\"1\" class=\"dataframe\">\n",
       "  <thead>\n",
       "    <tr style=\"text-align: right;\">\n",
       "      <th></th>\n",
       "      <th>posting_id</th>\n",
       "      <th>image</th>\n",
       "      <th>image_phash</th>\n",
       "      <th>title</th>\n",
       "      <th>label_group</th>\n",
       "      <th>path</th>\n",
       "      <th>preds4</th>\n",
       "      <th>preds1</th>\n",
       "      <th>preds2</th>\n",
       "      <th>target</th>\n",
       "      <th>oof</th>\n",
       "      <th>f1</th>\n",
       "      <th>matches</th>\n",
       "    </tr>\n",
       "  </thead>\n",
       "  <tbody>\n",
       "    <tr>\n",
       "      <th>0</th>\n",
       "      <td>train_129225211</td>\n",
       "      <td>0000a68812bc7e98c42888dfb1c07da0.jpg</td>\n",
       "      <td>94974f937d4c2433</td>\n",
       "      <td>Paper Bag Victoria Secret</td>\n",
       "      <td>249114794</td>\n",
       "      <td>../input/shopee-product-matching/train_images/...</td>\n",
       "      <td>[train_129225211]</td>\n",
       "      <td>[train_129225211]</td>\n",
       "      <td>[train_129225211, train_2051205225]</td>\n",
       "      <td>[train_129225211]</td>\n",
       "      <td>[train_129225211, train_2051205225]</td>\n",
       "      <td>0.666667</td>\n",
       "      <td>train_129225211 train_2051205225</td>\n",
       "    </tr>\n",
       "    <tr>\n",
       "      <th>1</th>\n",
       "      <td>train_3386243561</td>\n",
       "      <td>00039780dfc94d01db8676fe789ecd05.jpg</td>\n",
       "      <td>af3f9460c2838f0f</td>\n",
       "      <td>Double Tape 3M VHB 12 mm x 4,5 m ORIGINAL / DO...</td>\n",
       "      <td>2937985045</td>\n",
       "      <td>../input/shopee-product-matching/train_images/...</td>\n",
       "      <td>[train_3386243561]</td>\n",
       "      <td>[train_3386243561, train_1816968361]</td>\n",
       "      <td>[train_3386243561]</td>\n",
       "      <td>[train_3386243561]</td>\n",
       "      <td>[train_1816968361, train_3386243561]</td>\n",
       "      <td>0.666667</td>\n",
       "      <td>train_1816968361 train_3386243561</td>\n",
       "    </tr>\n",
       "    <tr>\n",
       "      <th>2</th>\n",
       "      <td>train_2288590299</td>\n",
       "      <td>000a190fdd715a2a36faed16e2c65df7.jpg</td>\n",
       "      <td>b94cb00ed3e50f78</td>\n",
       "      <td>Maling TTS Canned Pork Luncheon Meat 397 gr</td>\n",
       "      <td>2395904891</td>\n",
       "      <td>../input/shopee-product-matching/train_images/...</td>\n",
       "      <td>[train_2288590299]</td>\n",
       "      <td>[train_2288590299]</td>\n",
       "      <td>[train_2288590299, train_3025597522]</td>\n",
       "      <td>[train_2288590299]</td>\n",
       "      <td>[train_2288590299, train_3025597522]</td>\n",
       "      <td>0.666667</td>\n",
       "      <td>train_2288590299 train_3025597522</td>\n",
       "    </tr>\n",
       "    <tr>\n",
       "      <th>3</th>\n",
       "      <td>train_2406599165</td>\n",
       "      <td>00117e4fc239b1b641ff08340b429633.jpg</td>\n",
       "      <td>8514fc58eafea283</td>\n",
       "      <td>Daster Batik Lengan pendek - Motif Acak / Camp...</td>\n",
       "      <td>4093212188</td>\n",
       "      <td>../input/shopee-product-matching/train_images/...</td>\n",
       "      <td>[train_2406599165]</td>\n",
       "      <td>[train_2406599165]</td>\n",
       "      <td>[train_2406599165]</td>\n",
       "      <td>[train_2406599165]</td>\n",
       "      <td>[train_2406599165]</td>\n",
       "      <td>1.000000</td>\n",
       "      <td>train_2406599165</td>\n",
       "    </tr>\n",
       "    <tr>\n",
       "      <th>4</th>\n",
       "      <td>train_3369186413</td>\n",
       "      <td>00136d1cf4edede0203f32f05f660588.jpg</td>\n",
       "      <td>a6f319f924ad708c</td>\n",
       "      <td>Nescafe \\xc3\\x89clair Latte 220ml</td>\n",
       "      <td>3648931069</td>\n",
       "      <td>../input/shopee-product-matching/train_images/...</td>\n",
       "      <td>[train_3369186413]</td>\n",
       "      <td>[train_3369186413]</td>\n",
       "      <td>[]</td>\n",
       "      <td>[train_3369186413]</td>\n",
       "      <td>[train_3369186413]</td>\n",
       "      <td>1.000000</td>\n",
       "      <td>train_3369186413</td>\n",
       "    </tr>\n",
       "  </tbody>\n",
       "</table>\n",
       "</div>"
      ],
      "text/plain": [
       "         posting_id                                 image       image_phash  \\\n",
       "0   train_129225211  0000a68812bc7e98c42888dfb1c07da0.jpg  94974f937d4c2433   \n",
       "1  train_3386243561  00039780dfc94d01db8676fe789ecd05.jpg  af3f9460c2838f0f   \n",
       "2  train_2288590299  000a190fdd715a2a36faed16e2c65df7.jpg  b94cb00ed3e50f78   \n",
       "3  train_2406599165  00117e4fc239b1b641ff08340b429633.jpg  8514fc58eafea283   \n",
       "4  train_3369186413  00136d1cf4edede0203f32f05f660588.jpg  a6f319f924ad708c   \n",
       "\n",
       "                                               title  label_group  \\\n",
       "0                          Paper Bag Victoria Secret    249114794   \n",
       "1  Double Tape 3M VHB 12 mm x 4,5 m ORIGINAL / DO...   2937985045   \n",
       "2        Maling TTS Canned Pork Luncheon Meat 397 gr   2395904891   \n",
       "3  Daster Batik Lengan pendek - Motif Acak / Camp...   4093212188   \n",
       "4                  Nescafe \\xc3\\x89clair Latte 220ml   3648931069   \n",
       "\n",
       "                                                path              preds4  \\\n",
       "0  ../input/shopee-product-matching/train_images/...   [train_129225211]   \n",
       "1  ../input/shopee-product-matching/train_images/...  [train_3386243561]   \n",
       "2  ../input/shopee-product-matching/train_images/...  [train_2288590299]   \n",
       "3  ../input/shopee-product-matching/train_images/...  [train_2406599165]   \n",
       "4  ../input/shopee-product-matching/train_images/...  [train_3369186413]   \n",
       "\n",
       "                                 preds1                                preds2  \\\n",
       "0                     [train_129225211]   [train_129225211, train_2051205225]   \n",
       "1  [train_3386243561, train_1816968361]                    [train_3386243561]   \n",
       "2                    [train_2288590299]  [train_2288590299, train_3025597522]   \n",
       "3                    [train_2406599165]                    [train_2406599165]   \n",
       "4                    [train_3369186413]                                    []   \n",
       "\n",
       "               target                                   oof        f1  \\\n",
       "0   [train_129225211]   [train_129225211, train_2051205225]  0.666667   \n",
       "1  [train_3386243561]  [train_1816968361, train_3386243561]  0.666667   \n",
       "2  [train_2288590299]  [train_2288590299, train_3025597522]  0.666667   \n",
       "3  [train_2406599165]                    [train_2406599165]  1.000000   \n",
       "4  [train_3369186413]                    [train_3369186413]  1.000000   \n",
       "\n",
       "                             matches  \n",
       "0   train_129225211 train_2051205225  \n",
       "1  train_1816968361 train_3386243561  \n",
       "2  train_2288590299 train_3025597522  \n",
       "3                   train_2406599165  \n",
       "4                   train_3369186413  "
      ]
     },
     "execution_count": 27,
     "metadata": {},
     "output_type": "execute_result"
    }
   ],
   "source": [
    "test['matches'] = test.apply(combine_for_sub,axis=1)\n",
    "test.head()"
   ]
  },
  {
   "cell_type": "code",
   "execution_count": 28,
   "id": "ideal-gross",
   "metadata": {
    "execution": {
     "iopub.execute_input": "2021-05-05T05:39:07.647691Z",
     "iopub.status.busy": "2021-05-05T05:39:07.647201Z",
     "iopub.status.idle": "2021-05-05T05:39:07.663943Z",
     "shell.execute_reply": "2021-05-05T05:39:07.663504Z"
    },
    "papermill": {
     "duration": 0.045931,
     "end_time": "2021-05-05T05:39:07.664090",
     "exception": false,
     "start_time": "2021-05-05T05:39:07.618159",
     "status": "completed"
    },
    "tags": []
   },
   "outputs": [
    {
     "data": {
      "text/html": [
       "<div>\n",
       "<style scoped>\n",
       "    .dataframe tbody tr th:only-of-type {\n",
       "        vertical-align: middle;\n",
       "    }\n",
       "\n",
       "    .dataframe tbody tr th {\n",
       "        vertical-align: top;\n",
       "    }\n",
       "\n",
       "    .dataframe thead th {\n",
       "        text-align: right;\n",
       "    }\n",
       "</style>\n",
       "<table border=\"1\" class=\"dataframe\">\n",
       "  <thead>\n",
       "    <tr style=\"text-align: right;\">\n",
       "      <th></th>\n",
       "      <th>posting_id</th>\n",
       "      <th>matches</th>\n",
       "    </tr>\n",
       "  </thead>\n",
       "  <tbody>\n",
       "    <tr>\n",
       "      <th>0</th>\n",
       "      <td>train_129225211</td>\n",
       "      <td>train_129225211 train_2051205225</td>\n",
       "    </tr>\n",
       "    <tr>\n",
       "      <th>1</th>\n",
       "      <td>train_3386243561</td>\n",
       "      <td>train_1816968361 train_3386243561</td>\n",
       "    </tr>\n",
       "    <tr>\n",
       "      <th>2</th>\n",
       "      <td>train_2288590299</td>\n",
       "      <td>train_2288590299 train_3025597522</td>\n",
       "    </tr>\n",
       "    <tr>\n",
       "      <th>3</th>\n",
       "      <td>train_2406599165</td>\n",
       "      <td>train_2406599165</td>\n",
       "    </tr>\n",
       "    <tr>\n",
       "      <th>4</th>\n",
       "      <td>train_3369186413</td>\n",
       "      <td>train_3369186413</td>\n",
       "    </tr>\n",
       "  </tbody>\n",
       "</table>\n",
       "</div>"
      ],
      "text/plain": [
       "         posting_id                            matches\n",
       "0   train_129225211   train_129225211 train_2051205225\n",
       "1  train_3386243561  train_1816968361 train_3386243561\n",
       "2  train_2288590299  train_2288590299 train_3025597522\n",
       "3  train_2406599165                   train_2406599165\n",
       "4  train_3369186413                   train_3369186413"
      ]
     },
     "execution_count": 28,
     "metadata": {},
     "output_type": "execute_result"
    }
   ],
   "source": [
    "test[['posting_id','matches']].to_csv('submission.csv',index=False)\n",
    "sub = pd.read_csv('submission.csv')\n",
    "sub.head()"
   ]
  },
  {
   "cell_type": "code",
   "execution_count": 29,
   "id": "polyphonic-bunny",
   "metadata": {
    "execution": {
     "iopub.execute_input": "2021-05-05T05:39:07.719848Z",
     "iopub.status.busy": "2021-05-05T05:39:07.718998Z",
     "iopub.status.idle": "2021-05-05T05:39:07.765923Z",
     "shell.execute_reply": "2021-05-05T05:39:07.766623Z"
    },
    "papermill": {
     "duration": 0.077219,
     "end_time": "2021-05-05T05:39:07.766847",
     "exception": false,
     "start_time": "2021-05-05T05:39:07.689628",
     "status": "completed"
    },
    "tags": []
   },
   "outputs": [],
   "source": [
    "test.to_csv('test.csv',index=False)"
   ]
  },
  {
   "cell_type": "code",
   "execution_count": null,
   "id": "limited-reason",
   "metadata": {
    "papermill": {
     "duration": 0.044964,
     "end_time": "2021-05-05T05:39:07.858832",
     "exception": false,
     "start_time": "2021-05-05T05:39:07.813868",
     "status": "completed"
    },
    "tags": []
   },
   "outputs": [],
   "source": []
  },
  {
   "cell_type": "code",
   "execution_count": null,
   "id": "careful-truck",
   "metadata": {
    "papermill": {
     "duration": 0.040263,
     "end_time": "2021-05-05T05:39:07.946142",
     "exception": false,
     "start_time": "2021-05-05T05:39:07.905879",
     "status": "completed"
    },
    "tags": []
   },
   "outputs": [],
   "source": []
  }
 ],
 "metadata": {
  "kernelspec": {
   "display_name": "Python 3",
   "language": "python",
   "name": "python3"
  },
  "language_info": {
   "codemirror_mode": {
    "name": "ipython",
    "version": 3
   },
   "file_extension": ".py",
   "mimetype": "text/x-python",
   "name": "python",
   "nbconvert_exporter": "python",
   "pygments_lexer": "ipython3",
   "version": "3.7.10"
  },
  "papermill": {
   "default_parameters": {},
   "duration": 78.751731,
   "end_time": "2021-05-05T05:39:10.578461",
   "environment_variables": {},
   "exception": null,
   "input_path": "__notebook__.ipynb",
   "output_path": "__notebook__.ipynb",
   "parameters": {},
   "start_time": "2021-05-05T05:37:51.826730",
   "version": "2.3.3"
  },
  "widgets": {
   "application/vnd.jupyter.widget-state+json": {
    "state": {
     "02c8ba6695f6401b8e5129c4c6ba958d": {
      "model_module": "@jupyter-widgets/controls",
      "model_module_version": "1.5.0",
      "model_name": "HTMLModel",
      "state": {
       "_dom_classes": [],
       "_model_module": "@jupyter-widgets/controls",
       "_model_module_version": "1.5.0",
       "_model_name": "HTMLModel",
       "_view_count": null,
       "_view_module": "@jupyter-widgets/controls",
       "_view_module_version": "1.5.0",
       "_view_name": "HTMLView",
       "description": "",
       "description_tooltip": null,
       "layout": "IPY_MODEL_979cf81e2d36452087f98e68061f863c",
       "placeholder": "​",
       "style": "IPY_MODEL_1ff7362743ec40b9b88e61da2d485471",
       "value": "100%"
      }
     },
     "0b9f970790bb45c6ad623e80a31674bd": {
      "model_module": "@jupyter-widgets/base",
      "model_module_version": "1.2.0",
      "model_name": "LayoutModel",
      "state": {
       "_model_module": "@jupyter-widgets/base",
       "_model_module_version": "1.2.0",
       "_model_name": "LayoutModel",
       "_view_count": null,
       "_view_module": "@jupyter-widgets/base",
       "_view_module_version": "1.2.0",
       "_view_name": "LayoutView",
       "align_content": null,
       "align_items": null,
       "align_self": null,
       "border": null,
       "bottom": null,
       "display": null,
       "flex": null,
       "flex_flow": null,
       "grid_area": null,
       "grid_auto_columns": null,
       "grid_auto_flow": null,
       "grid_auto_rows": null,
       "grid_column": null,
       "grid_gap": null,
       "grid_row": null,
       "grid_template_areas": null,
       "grid_template_columns": null,
       "grid_template_rows": null,
       "height": null,
       "justify_content": null,
       "justify_items": null,
       "left": null,
       "margin": null,
       "max_height": null,
       "max_width": null,
       "min_height": null,
       "min_width": null,
       "object_fit": null,
       "object_position": null,
       "order": null,
       "overflow": null,
       "overflow_x": null,
       "overflow_y": null,
       "padding": null,
       "right": null,
       "top": null,
       "visibility": null,
       "width": null
      }
     },
     "0c9ad11348da43b78c013e349029a9bb": {
      "model_module": "@jupyter-widgets/base",
      "model_module_version": "1.2.0",
      "model_name": "LayoutModel",
      "state": {
       "_model_module": "@jupyter-widgets/base",
       "_model_module_version": "1.2.0",
       "_model_name": "LayoutModel",
       "_view_count": null,
       "_view_module": "@jupyter-widgets/base",
       "_view_module_version": "1.2.0",
       "_view_name": "LayoutView",
       "align_content": null,
       "align_items": null,
       "align_self": null,
       "border": null,
       "bottom": null,
       "display": null,
       "flex": null,
       "flex_flow": null,
       "grid_area": null,
       "grid_auto_columns": null,
       "grid_auto_flow": null,
       "grid_auto_rows": null,
       "grid_column": null,
       "grid_gap": null,
       "grid_row": null,
       "grid_template_areas": null,
       "grid_template_columns": null,
       "grid_template_rows": null,
       "height": null,
       "justify_content": null,
       "justify_items": null,
       "left": null,
       "margin": null,
       "max_height": null,
       "max_width": null,
       "min_height": null,
       "min_width": null,
       "object_fit": null,
       "object_position": null,
       "order": null,
       "overflow": null,
       "overflow_x": null,
       "overflow_y": null,
       "padding": null,
       "right": null,
       "top": null,
       "visibility": null,
       "width": null
      }
     },
     "1ff7362743ec40b9b88e61da2d485471": {
      "model_module": "@jupyter-widgets/controls",
      "model_module_version": "1.5.0",
      "model_name": "DescriptionStyleModel",
      "state": {
       "_model_module": "@jupyter-widgets/controls",
       "_model_module_version": "1.5.0",
       "_model_name": "DescriptionStyleModel",
       "_view_count": null,
       "_view_module": "@jupyter-widgets/base",
       "_view_module_version": "1.2.0",
       "_view_name": "StyleView",
       "description_width": ""
      }
     },
     "21d150db425a41fe8f8ef8c0efaf289c": {
      "model_module": "@jupyter-widgets/base",
      "model_module_version": "1.2.0",
      "model_name": "LayoutModel",
      "state": {
       "_model_module": "@jupyter-widgets/base",
       "_model_module_version": "1.2.0",
       "_model_name": "LayoutModel",
       "_view_count": null,
       "_view_module": "@jupyter-widgets/base",
       "_view_module_version": "1.2.0",
       "_view_name": "LayoutView",
       "align_content": null,
       "align_items": null,
       "align_self": null,
       "border": null,
       "bottom": null,
       "display": null,
       "flex": null,
       "flex_flow": null,
       "grid_area": null,
       "grid_auto_columns": null,
       "grid_auto_flow": null,
       "grid_auto_rows": null,
       "grid_column": null,
       "grid_gap": null,
       "grid_row": null,
       "grid_template_areas": null,
       "grid_template_columns": null,
       "grid_template_rows": null,
       "height": null,
       "justify_content": null,
       "justify_items": null,
       "left": null,
       "margin": null,
       "max_height": null,
       "max_width": null,
       "min_height": null,
       "min_width": null,
       "object_fit": null,
       "object_position": null,
       "order": null,
       "overflow": null,
       "overflow_x": null,
       "overflow_y": null,
       "padding": null,
       "right": null,
       "top": null,
       "visibility": null,
       "width": null
      }
     },
     "2b3f39dd6d554285a41a894dc6187a90": {
      "model_module": "@jupyter-widgets/controls",
      "model_module_version": "1.5.0",
      "model_name": "ProgressStyleModel",
      "state": {
       "_model_module": "@jupyter-widgets/controls",
       "_model_module_version": "1.5.0",
       "_model_name": "ProgressStyleModel",
       "_view_count": null,
       "_view_module": "@jupyter-widgets/base",
       "_view_module_version": "1.2.0",
       "_view_name": "StyleView",
       "bar_color": null,
       "description_width": ""
      }
     },
     "41d8bfcff0f146599da8f6d89a0528b3": {
      "model_module": "@jupyter-widgets/controls",
      "model_module_version": "1.5.0",
      "model_name": "ProgressStyleModel",
      "state": {
       "_model_module": "@jupyter-widgets/controls",
       "_model_module_version": "1.5.0",
       "_model_name": "ProgressStyleModel",
       "_view_count": null,
       "_view_module": "@jupyter-widgets/base",
       "_view_module_version": "1.2.0",
       "_view_name": "StyleView",
       "bar_color": null,
       "description_width": ""
      }
     },
     "55d83b72b07f47f1ad80294df1028a5b": {
      "model_module": "@jupyter-widgets/controls",
      "model_module_version": "1.5.0",
      "model_name": "HBoxModel",
      "state": {
       "_dom_classes": [],
       "_model_module": "@jupyter-widgets/controls",
       "_model_module_version": "1.5.0",
       "_model_name": "HBoxModel",
       "_view_count": null,
       "_view_module": "@jupyter-widgets/controls",
       "_view_module_version": "1.5.0",
       "_view_name": "HBoxView",
       "box_style": "",
       "children": [
        "IPY_MODEL_02c8ba6695f6401b8e5129c4c6ba958d",
        "IPY_MODEL_95daf6f3c9844674bd95f236782c1b22",
        "IPY_MODEL_c1c4ef652fc14c0fa0a31aac8513cf38"
       ],
       "layout": "IPY_MODEL_84bb11a3ae68423880b982a205789330"
      }
     },
     "5cc28d66ba26414bbfbb8110348120f0": {
      "model_module": "@jupyter-widgets/controls",
      "model_module_version": "1.5.0",
      "model_name": "DescriptionStyleModel",
      "state": {
       "_model_module": "@jupyter-widgets/controls",
       "_model_module_version": "1.5.0",
       "_model_name": "DescriptionStyleModel",
       "_view_count": null,
       "_view_module": "@jupyter-widgets/base",
       "_view_module_version": "1.2.0",
       "_view_name": "StyleView",
       "description_width": ""
      }
     },
     "5fcd6a13a81847f68e81057d0c815a62": {
      "model_module": "@jupyter-widgets/base",
      "model_module_version": "1.2.0",
      "model_name": "LayoutModel",
      "state": {
       "_model_module": "@jupyter-widgets/base",
       "_model_module_version": "1.2.0",
       "_model_name": "LayoutModel",
       "_view_count": null,
       "_view_module": "@jupyter-widgets/base",
       "_view_module_version": "1.2.0",
       "_view_name": "LayoutView",
       "align_content": null,
       "align_items": null,
       "align_self": null,
       "border": null,
       "bottom": null,
       "display": null,
       "flex": null,
       "flex_flow": null,
       "grid_area": null,
       "grid_auto_columns": null,
       "grid_auto_flow": null,
       "grid_auto_rows": null,
       "grid_column": null,
       "grid_gap": null,
       "grid_row": null,
       "grid_template_areas": null,
       "grid_template_columns": null,
       "grid_template_rows": null,
       "height": null,
       "justify_content": null,
       "justify_items": null,
       "left": null,
       "margin": null,
       "max_height": null,
       "max_width": null,
       "min_height": null,
       "min_width": null,
       "object_fit": null,
       "object_position": null,
       "order": null,
       "overflow": null,
       "overflow_x": null,
       "overflow_y": null,
       "padding": null,
       "right": null,
       "top": null,
       "visibility": null,
       "width": null
      }
     },
     "782da625e284400eba2d0f926c68d993": {
      "model_module": "@jupyter-widgets/base",
      "model_module_version": "1.2.0",
      "model_name": "LayoutModel",
      "state": {
       "_model_module": "@jupyter-widgets/base",
       "_model_module_version": "1.2.0",
       "_model_name": "LayoutModel",
       "_view_count": null,
       "_view_module": "@jupyter-widgets/base",
       "_view_module_version": "1.2.0",
       "_view_name": "LayoutView",
       "align_content": null,
       "align_items": null,
       "align_self": null,
       "border": null,
       "bottom": null,
       "display": null,
       "flex": null,
       "flex_flow": null,
       "grid_area": null,
       "grid_auto_columns": null,
       "grid_auto_flow": null,
       "grid_auto_rows": null,
       "grid_column": null,
       "grid_gap": null,
       "grid_row": null,
       "grid_template_areas": null,
       "grid_template_columns": null,
       "grid_template_rows": null,
       "height": null,
       "justify_content": null,
       "justify_items": null,
       "left": null,
       "margin": null,
       "max_height": null,
       "max_width": null,
       "min_height": null,
       "min_width": null,
       "object_fit": null,
       "object_position": null,
       "order": null,
       "overflow": null,
       "overflow_x": null,
       "overflow_y": null,
       "padding": null,
       "right": null,
       "top": null,
       "visibility": null,
       "width": null
      }
     },
     "7b60c493043b43b5baad70f024630469": {
      "model_module": "@jupyter-widgets/controls",
      "model_module_version": "1.5.0",
      "model_name": "HTMLModel",
      "state": {
       "_dom_classes": [],
       "_model_module": "@jupyter-widgets/controls",
       "_model_module_version": "1.5.0",
       "_model_name": "HTMLModel",
       "_view_count": null,
       "_view_module": "@jupyter-widgets/controls",
       "_view_module_version": "1.5.0",
       "_view_name": "HTMLView",
       "description": "",
       "description_tooltip": null,
       "layout": "IPY_MODEL_21d150db425a41fe8f8ef8c0efaf289c",
       "placeholder": "​",
       "style": "IPY_MODEL_c615979a1ca442e2b1cf40b4bff15eca",
       "value": "100%"
      }
     },
     "84bb11a3ae68423880b982a205789330": {
      "model_module": "@jupyter-widgets/base",
      "model_module_version": "1.2.0",
      "model_name": "LayoutModel",
      "state": {
       "_model_module": "@jupyter-widgets/base",
       "_model_module_version": "1.2.0",
       "_model_name": "LayoutModel",
       "_view_count": null,
       "_view_module": "@jupyter-widgets/base",
       "_view_module_version": "1.2.0",
       "_view_name": "LayoutView",
       "align_content": null,
       "align_items": null,
       "align_self": null,
       "border": null,
       "bottom": null,
       "display": null,
       "flex": null,
       "flex_flow": null,
       "grid_area": null,
       "grid_auto_columns": null,
       "grid_auto_flow": null,
       "grid_auto_rows": null,
       "grid_column": null,
       "grid_gap": null,
       "grid_row": null,
       "grid_template_areas": null,
       "grid_template_columns": null,
       "grid_template_rows": null,
       "height": null,
       "justify_content": null,
       "justify_items": null,
       "left": null,
       "margin": null,
       "max_height": null,
       "max_width": null,
       "min_height": null,
       "min_width": null,
       "object_fit": null,
       "object_position": null,
       "order": null,
       "overflow": null,
       "overflow_x": null,
       "overflow_y": null,
       "padding": null,
       "right": null,
       "top": null,
       "visibility": null,
       "width": null
      }
     },
     "85aa48a8c10541f1ad2f0e1b45852a36": {
      "model_module": "@jupyter-widgets/controls",
      "model_module_version": "1.5.0",
      "model_name": "HBoxModel",
      "state": {
       "_dom_classes": [],
       "_model_module": "@jupyter-widgets/controls",
       "_model_module_version": "1.5.0",
       "_model_name": "HBoxModel",
       "_view_count": null,
       "_view_module": "@jupyter-widgets/controls",
       "_view_module_version": "1.5.0",
       "_view_name": "HBoxView",
       "box_style": "",
       "children": [
        "IPY_MODEL_7b60c493043b43b5baad70f024630469",
        "IPY_MODEL_f4c550fd0653492cb1d8285ba5d3eb8f",
        "IPY_MODEL_ad6231ccbfd14b289c6cd99d56cdd202"
       ],
       "layout": "IPY_MODEL_caae15ef07094642bd7cbee612ea5811"
      }
     },
     "88d37850f5474a7fa69db0a5706119bf": {
      "model_module": "@jupyter-widgets/controls",
      "model_module_version": "1.5.0",
      "model_name": "HBoxModel",
      "state": {
       "_dom_classes": [],
       "_model_module": "@jupyter-widgets/controls",
       "_model_module_version": "1.5.0",
       "_model_name": "HBoxModel",
       "_view_count": null,
       "_view_module": "@jupyter-widgets/controls",
       "_view_module_version": "1.5.0",
       "_view_name": "HBoxView",
       "box_style": "",
       "children": [
        "IPY_MODEL_f743c2a2674d4125be208c13d42f3cf4",
        "IPY_MODEL_fbb5301f783645e7a69fb585821c79bd",
        "IPY_MODEL_d39cca8c2d3649dd8695d5154815ab9e"
       ],
       "layout": "IPY_MODEL_a2f04e26dcf146d3b48a7636329fc97e"
      }
     },
     "95daf6f3c9844674bd95f236782c1b22": {
      "model_module": "@jupyter-widgets/controls",
      "model_module_version": "1.5.0",
      "model_name": "FloatProgressModel",
      "state": {
       "_dom_classes": [],
       "_model_module": "@jupyter-widgets/controls",
       "_model_module_version": "1.5.0",
       "_model_name": "FloatProgressModel",
       "_view_count": null,
       "_view_module": "@jupyter-widgets/controls",
       "_view_module_version": "1.5.0",
       "_view_name": "ProgressView",
       "bar_style": "success",
       "description": "",
       "description_tooltip": null,
       "layout": "IPY_MODEL_782da625e284400eba2d0f926c68d993",
       "max": 22.0,
       "min": 0.0,
       "orientation": "horizontal",
       "style": "IPY_MODEL_41d8bfcff0f146599da8f6d89a0528b3",
       "value": 22.0
      }
     },
     "973ecae0a536413eac9af630e2f7c1f8": {
      "model_module": "@jupyter-widgets/base",
      "model_module_version": "1.2.0",
      "model_name": "LayoutModel",
      "state": {
       "_model_module": "@jupyter-widgets/base",
       "_model_module_version": "1.2.0",
       "_model_name": "LayoutModel",
       "_view_count": null,
       "_view_module": "@jupyter-widgets/base",
       "_view_module_version": "1.2.0",
       "_view_name": "LayoutView",
       "align_content": null,
       "align_items": null,
       "align_self": null,
       "border": null,
       "bottom": null,
       "display": null,
       "flex": null,
       "flex_flow": null,
       "grid_area": null,
       "grid_auto_columns": null,
       "grid_auto_flow": null,
       "grid_auto_rows": null,
       "grid_column": null,
       "grid_gap": null,
       "grid_row": null,
       "grid_template_areas": null,
       "grid_template_columns": null,
       "grid_template_rows": null,
       "height": null,
       "justify_content": null,
       "justify_items": null,
       "left": null,
       "margin": null,
       "max_height": null,
       "max_width": null,
       "min_height": null,
       "min_width": null,
       "object_fit": null,
       "object_position": null,
       "order": null,
       "overflow": null,
       "overflow_x": null,
       "overflow_y": null,
       "padding": null,
       "right": null,
       "top": null,
       "visibility": null,
       "width": null
      }
     },
     "979cf81e2d36452087f98e68061f863c": {
      "model_module": "@jupyter-widgets/base",
      "model_module_version": "1.2.0",
      "model_name": "LayoutModel",
      "state": {
       "_model_module": "@jupyter-widgets/base",
       "_model_module_version": "1.2.0",
       "_model_name": "LayoutModel",
       "_view_count": null,
       "_view_module": "@jupyter-widgets/base",
       "_view_module_version": "1.2.0",
       "_view_name": "LayoutView",
       "align_content": null,
       "align_items": null,
       "align_self": null,
       "border": null,
       "bottom": null,
       "display": null,
       "flex": null,
       "flex_flow": null,
       "grid_area": null,
       "grid_auto_columns": null,
       "grid_auto_flow": null,
       "grid_auto_rows": null,
       "grid_column": null,
       "grid_gap": null,
       "grid_row": null,
       "grid_template_areas": null,
       "grid_template_columns": null,
       "grid_template_rows": null,
       "height": null,
       "justify_content": null,
       "justify_items": null,
       "left": null,
       "margin": null,
       "max_height": null,
       "max_width": null,
       "min_height": null,
       "min_width": null,
       "object_fit": null,
       "object_position": null,
       "order": null,
       "overflow": null,
       "overflow_x": null,
       "overflow_y": null,
       "padding": null,
       "right": null,
       "top": null,
       "visibility": null,
       "width": null
      }
     },
     "996176c87f2f4e13b5063b01918aae30": {
      "model_module": "@jupyter-widgets/controls",
      "model_module_version": "1.5.0",
      "model_name": "DescriptionStyleModel",
      "state": {
       "_model_module": "@jupyter-widgets/controls",
       "_model_module_version": "1.5.0",
       "_model_name": "DescriptionStyleModel",
       "_view_count": null,
       "_view_module": "@jupyter-widgets/base",
       "_view_module_version": "1.2.0",
       "_view_name": "StyleView",
       "description_width": ""
      }
     },
     "a2462814a494415993d36a1e38c2c687": {
      "model_module": "@jupyter-widgets/base",
      "model_module_version": "1.2.0",
      "model_name": "LayoutModel",
      "state": {
       "_model_module": "@jupyter-widgets/base",
       "_model_module_version": "1.2.0",
       "_model_name": "LayoutModel",
       "_view_count": null,
       "_view_module": "@jupyter-widgets/base",
       "_view_module_version": "1.2.0",
       "_view_name": "LayoutView",
       "align_content": null,
       "align_items": null,
       "align_self": null,
       "border": null,
       "bottom": null,
       "display": null,
       "flex": null,
       "flex_flow": null,
       "grid_area": null,
       "grid_auto_columns": null,
       "grid_auto_flow": null,
       "grid_auto_rows": null,
       "grid_column": null,
       "grid_gap": null,
       "grid_row": null,
       "grid_template_areas": null,
       "grid_template_columns": null,
       "grid_template_rows": null,
       "height": null,
       "justify_content": null,
       "justify_items": null,
       "left": null,
       "margin": null,
       "max_height": null,
       "max_width": null,
       "min_height": null,
       "min_width": null,
       "object_fit": null,
       "object_position": null,
       "order": null,
       "overflow": null,
       "overflow_x": null,
       "overflow_y": null,
       "padding": null,
       "right": null,
       "top": null,
       "visibility": null,
       "width": null
      }
     },
     "a2f04e26dcf146d3b48a7636329fc97e": {
      "model_module": "@jupyter-widgets/base",
      "model_module_version": "1.2.0",
      "model_name": "LayoutModel",
      "state": {
       "_model_module": "@jupyter-widgets/base",
       "_model_module_version": "1.2.0",
       "_model_name": "LayoutModel",
       "_view_count": null,
       "_view_module": "@jupyter-widgets/base",
       "_view_module_version": "1.2.0",
       "_view_name": "LayoutView",
       "align_content": null,
       "align_items": null,
       "align_self": null,
       "border": null,
       "bottom": null,
       "display": null,
       "flex": null,
       "flex_flow": null,
       "grid_area": null,
       "grid_auto_columns": null,
       "grid_auto_flow": null,
       "grid_auto_rows": null,
       "grid_column": null,
       "grid_gap": null,
       "grid_row": null,
       "grid_template_areas": null,
       "grid_template_columns": null,
       "grid_template_rows": null,
       "height": null,
       "justify_content": null,
       "justify_items": null,
       "left": null,
       "margin": null,
       "max_height": null,
       "max_width": null,
       "min_height": null,
       "min_width": null,
       "object_fit": null,
       "object_position": null,
       "order": null,
       "overflow": null,
       "overflow_x": null,
       "overflow_y": null,
       "padding": null,
       "right": null,
       "top": null,
       "visibility": null,
       "width": null
      }
     },
     "ad6231ccbfd14b289c6cd99d56cdd202": {
      "model_module": "@jupyter-widgets/controls",
      "model_module_version": "1.5.0",
      "model_name": "HTMLModel",
      "state": {
       "_dom_classes": [],
       "_model_module": "@jupyter-widgets/controls",
       "_model_module_version": "1.5.0",
       "_model_name": "HTMLModel",
       "_view_count": null,
       "_view_module": "@jupyter-widgets/controls",
       "_view_module_version": "1.5.0",
       "_view_name": "HTMLView",
       "description": "",
       "description_tooltip": null,
       "layout": "IPY_MODEL_5fcd6a13a81847f68e81057d0c815a62",
       "placeholder": "​",
       "style": "IPY_MODEL_fb86ff1c8ddf4e6a9199c1ce42f530d8",
       "value": " 22/22 [00:07&lt;00:00,  5.12it/s]"
      }
     },
     "c0fe060dbf1140f1aa5abb200db6a2e0": {
      "model_module": "@jupyter-widgets/controls",
      "model_module_version": "1.5.0",
      "model_name": "DescriptionStyleModel",
      "state": {
       "_model_module": "@jupyter-widgets/controls",
       "_model_module_version": "1.5.0",
       "_model_name": "DescriptionStyleModel",
       "_view_count": null,
       "_view_module": "@jupyter-widgets/base",
       "_view_module_version": "1.2.0",
       "_view_name": "StyleView",
       "description_width": ""
      }
     },
     "c1c4ef652fc14c0fa0a31aac8513cf38": {
      "model_module": "@jupyter-widgets/controls",
      "model_module_version": "1.5.0",
      "model_name": "HTMLModel",
      "state": {
       "_dom_classes": [],
       "_model_module": "@jupyter-widgets/controls",
       "_model_module_version": "1.5.0",
       "_model_name": "HTMLModel",
       "_view_count": null,
       "_view_module": "@jupyter-widgets/controls",
       "_view_module_version": "1.5.0",
       "_view_name": "HTMLView",
       "description": "",
       "description_tooltip": null,
       "layout": "IPY_MODEL_973ecae0a536413eac9af630e2f7c1f8",
       "placeholder": "​",
       "style": "IPY_MODEL_c0fe060dbf1140f1aa5abb200db6a2e0",
       "value": " 22/22 [00:07&lt;00:00,  6.31it/s]"
      }
     },
     "c5755d8de6c14fe78afb45d74cb93652": {
      "model_module": "@jupyter-widgets/base",
      "model_module_version": "1.2.0",
      "model_name": "LayoutModel",
      "state": {
       "_model_module": "@jupyter-widgets/base",
       "_model_module_version": "1.2.0",
       "_model_name": "LayoutModel",
       "_view_count": null,
       "_view_module": "@jupyter-widgets/base",
       "_view_module_version": "1.2.0",
       "_view_name": "LayoutView",
       "align_content": null,
       "align_items": null,
       "align_self": null,
       "border": null,
       "bottom": null,
       "display": null,
       "flex": null,
       "flex_flow": null,
       "grid_area": null,
       "grid_auto_columns": null,
       "grid_auto_flow": null,
       "grid_auto_rows": null,
       "grid_column": null,
       "grid_gap": null,
       "grid_row": null,
       "grid_template_areas": null,
       "grid_template_columns": null,
       "grid_template_rows": null,
       "height": null,
       "justify_content": null,
       "justify_items": null,
       "left": null,
       "margin": null,
       "max_height": null,
       "max_width": null,
       "min_height": null,
       "min_width": null,
       "object_fit": null,
       "object_position": null,
       "order": null,
       "overflow": null,
       "overflow_x": null,
       "overflow_y": null,
       "padding": null,
       "right": null,
       "top": null,
       "visibility": null,
       "width": null
      }
     },
     "c615979a1ca442e2b1cf40b4bff15eca": {
      "model_module": "@jupyter-widgets/controls",
      "model_module_version": "1.5.0",
      "model_name": "DescriptionStyleModel",
      "state": {
       "_model_module": "@jupyter-widgets/controls",
       "_model_module_version": "1.5.0",
       "_model_name": "DescriptionStyleModel",
       "_view_count": null,
       "_view_module": "@jupyter-widgets/base",
       "_view_module_version": "1.2.0",
       "_view_name": "StyleView",
       "description_width": ""
      }
     },
     "caae15ef07094642bd7cbee612ea5811": {
      "model_module": "@jupyter-widgets/base",
      "model_module_version": "1.2.0",
      "model_name": "LayoutModel",
      "state": {
       "_model_module": "@jupyter-widgets/base",
       "_model_module_version": "1.2.0",
       "_model_name": "LayoutModel",
       "_view_count": null,
       "_view_module": "@jupyter-widgets/base",
       "_view_module_version": "1.2.0",
       "_view_name": "LayoutView",
       "align_content": null,
       "align_items": null,
       "align_self": null,
       "border": null,
       "bottom": null,
       "display": null,
       "flex": null,
       "flex_flow": null,
       "grid_area": null,
       "grid_auto_columns": null,
       "grid_auto_flow": null,
       "grid_auto_rows": null,
       "grid_column": null,
       "grid_gap": null,
       "grid_row": null,
       "grid_template_areas": null,
       "grid_template_columns": null,
       "grid_template_rows": null,
       "height": null,
       "justify_content": null,
       "justify_items": null,
       "left": null,
       "margin": null,
       "max_height": null,
       "max_width": null,
       "min_height": null,
       "min_width": null,
       "object_fit": null,
       "object_position": null,
       "order": null,
       "overflow": null,
       "overflow_x": null,
       "overflow_y": null,
       "padding": null,
       "right": null,
       "top": null,
       "visibility": null,
       "width": null
      }
     },
     "d39cca8c2d3649dd8695d5154815ab9e": {
      "model_module": "@jupyter-widgets/controls",
      "model_module_version": "1.5.0",
      "model_name": "HTMLModel",
      "state": {
       "_dom_classes": [],
       "_model_module": "@jupyter-widgets/controls",
       "_model_module_version": "1.5.0",
       "_model_name": "HTMLModel",
       "_view_count": null,
       "_view_module": "@jupyter-widgets/controls",
       "_view_module_version": "1.5.0",
       "_view_name": "HTMLView",
       "description": "",
       "description_tooltip": null,
       "layout": "IPY_MODEL_0c9ad11348da43b78c013e349029a9bb",
       "placeholder": "​",
       "style": "IPY_MODEL_996176c87f2f4e13b5063b01918aae30",
       "value": " 22/22 [00:07&lt;00:00,  5.06it/s]"
      }
     },
     "e6fca92ec7d74fd09c207c03bcb03152": {
      "model_module": "@jupyter-widgets/controls",
      "model_module_version": "1.5.0",
      "model_name": "ProgressStyleModel",
      "state": {
       "_model_module": "@jupyter-widgets/controls",
       "_model_module_version": "1.5.0",
       "_model_name": "ProgressStyleModel",
       "_view_count": null,
       "_view_module": "@jupyter-widgets/base",
       "_view_module_version": "1.2.0",
       "_view_name": "StyleView",
       "bar_color": null,
       "description_width": ""
      }
     },
     "f4c550fd0653492cb1d8285ba5d3eb8f": {
      "model_module": "@jupyter-widgets/controls",
      "model_module_version": "1.5.0",
      "model_name": "FloatProgressModel",
      "state": {
       "_dom_classes": [],
       "_model_module": "@jupyter-widgets/controls",
       "_model_module_version": "1.5.0",
       "_model_name": "FloatProgressModel",
       "_view_count": null,
       "_view_module": "@jupyter-widgets/controls",
       "_view_module_version": "1.5.0",
       "_view_name": "ProgressView",
       "bar_style": "success",
       "description": "",
       "description_tooltip": null,
       "layout": "IPY_MODEL_c5755d8de6c14fe78afb45d74cb93652",
       "max": 22.0,
       "min": 0.0,
       "orientation": "horizontal",
       "style": "IPY_MODEL_2b3f39dd6d554285a41a894dc6187a90",
       "value": 22.0
      }
     },
     "f743c2a2674d4125be208c13d42f3cf4": {
      "model_module": "@jupyter-widgets/controls",
      "model_module_version": "1.5.0",
      "model_name": "HTMLModel",
      "state": {
       "_dom_classes": [],
       "_model_module": "@jupyter-widgets/controls",
       "_model_module_version": "1.5.0",
       "_model_name": "HTMLModel",
       "_view_count": null,
       "_view_module": "@jupyter-widgets/controls",
       "_view_module_version": "1.5.0",
       "_view_name": "HTMLView",
       "description": "",
       "description_tooltip": null,
       "layout": "IPY_MODEL_0b9f970790bb45c6ad623e80a31674bd",
       "placeholder": "​",
       "style": "IPY_MODEL_5cc28d66ba26414bbfbb8110348120f0",
       "value": "100%"
      }
     },
     "fb86ff1c8ddf4e6a9199c1ce42f530d8": {
      "model_module": "@jupyter-widgets/controls",
      "model_module_version": "1.5.0",
      "model_name": "DescriptionStyleModel",
      "state": {
       "_model_module": "@jupyter-widgets/controls",
       "_model_module_version": "1.5.0",
       "_model_name": "DescriptionStyleModel",
       "_view_count": null,
       "_view_module": "@jupyter-widgets/base",
       "_view_module_version": "1.2.0",
       "_view_name": "StyleView",
       "description_width": ""
      }
     },
     "fbb5301f783645e7a69fb585821c79bd": {
      "model_module": "@jupyter-widgets/controls",
      "model_module_version": "1.5.0",
      "model_name": "FloatProgressModel",
      "state": {
       "_dom_classes": [],
       "_model_module": "@jupyter-widgets/controls",
       "_model_module_version": "1.5.0",
       "_model_name": "FloatProgressModel",
       "_view_count": null,
       "_view_module": "@jupyter-widgets/controls",
       "_view_module_version": "1.5.0",
       "_view_name": "ProgressView",
       "bar_style": "success",
       "description": "",
       "description_tooltip": null,
       "layout": "IPY_MODEL_a2462814a494415993d36a1e38c2c687",
       "max": 22.0,
       "min": 0.0,
       "orientation": "horizontal",
       "style": "IPY_MODEL_e6fca92ec7d74fd09c207c03bcb03152",
       "value": 22.0
      }
     }
    },
    "version_major": 2,
    "version_minor": 0
   }
  }
 },
 "nbformat": 4,
 "nbformat_minor": 5
}
