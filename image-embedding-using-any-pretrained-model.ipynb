{
 "cells": [
  {
   "cell_type": "markdown",
   "metadata": {
    "papermill": {
     "duration": 0.009209,
     "end_time": "2021-04-11T07:56:34.699935",
     "exception": false,
     "start_time": "2021-04-11T07:56:34.690726",
     "status": "completed"
    },
    "tags": []
   },
   "source": [
    "Disclaimer: By any model I mean model that is in the Timm library"
   ]
  },
  {
   "cell_type": "code",
   "execution_count": 1,
   "metadata": {
    "execution": {
     "iopub.execute_input": "2021-04-11T07:56:34.722620Z",
     "iopub.status.busy": "2021-04-11T07:56:34.722076Z",
     "iopub.status.idle": "2021-04-11T07:56:39.881653Z",
     "shell.execute_reply": "2021-04-11T07:56:39.880893Z"
    },
    "papermill": {
     "duration": 5.173474,
     "end_time": "2021-04-11T07:56:39.881881",
     "exception": false,
     "start_time": "2021-04-11T07:56:34.708407",
     "status": "completed"
    },
    "tags": []
   },
   "outputs": [
    {
     "name": "stdout",
     "output_type": "stream",
     "text": [
      "cuda\n"
     ]
    }
   ],
   "source": [
    "import numpy as np # linear algebra\n",
    "import pandas as pd\n",
    "import cv2\n",
    "import matplotlib.pyplot as plt\n",
    "\n",
    "\n",
    "import torch\n",
    "import torch.nn as nn\n",
    "import torch.nn.functional as F\n",
    "\n",
    "from torch.utils.data import Dataset,DataLoader\n",
    "\n",
    "timm_path = \"../input/timm-pytorch-image-models/pytorch-image-models-master\"\n",
    "import sys\n",
    "sys.path.append(timm_path)\n",
    "import timm\n",
    "\n",
    "import albumentations as A\n",
    "from albumentations.pytorch import ToTensorV2\n",
    "\n",
    "device = torch.device('cuda' if torch.cuda.is_available() else 'cpu')\n",
    "print(device)"
   ]
  },
  {
   "cell_type": "code",
   "execution_count": 2,
   "metadata": {
    "execution": {
     "iopub.execute_input": "2021-04-11T07:56:39.920103Z",
     "iopub.status.busy": "2021-04-11T07:56:39.919397Z",
     "iopub.status.idle": "2021-04-11T07:56:40.155174Z",
     "shell.execute_reply": "2021-04-11T07:56:40.154635Z"
    },
    "papermill": {
     "duration": 0.256612,
     "end_time": "2021-04-11T07:56:40.155317",
     "exception": false,
     "start_time": "2021-04-11T07:56:39.898705",
     "status": "completed"
    },
    "tags": []
   },
   "outputs": [],
   "source": [
    "df  = pd.read_csv(\"../input/shopee-product-matching/train.csv\")\n"
   ]
  },
  {
   "cell_type": "code",
   "execution_count": 3,
   "metadata": {
    "execution": {
     "iopub.execute_input": "2021-04-11T07:56:40.227069Z",
     "iopub.status.busy": "2021-04-11T07:56:40.221879Z",
     "iopub.status.idle": "2021-04-11T07:56:40.323623Z",
     "shell.execute_reply": "2021-04-11T07:56:40.322658Z"
    },
    "papermill": {
     "duration": 0.151903,
     "end_time": "2021-04-11T07:56:40.323747",
     "exception": false,
     "start_time": "2021-04-11T07:56:40.171844",
     "status": "completed"
    },
    "tags": []
   },
   "outputs": [
    {
     "data": {
      "text/html": [
       "<div>\n",
       "<style scoped>\n",
       "    .dataframe tbody tr th:only-of-type {\n",
       "        vertical-align: middle;\n",
       "    }\n",
       "\n",
       "    .dataframe tbody tr th {\n",
       "        vertical-align: top;\n",
       "    }\n",
       "\n",
       "    .dataframe thead th {\n",
       "        text-align: right;\n",
       "    }\n",
       "</style>\n",
       "<table border=\"1\" class=\"dataframe\">\n",
       "  <thead>\n",
       "    <tr style=\"text-align: right;\">\n",
       "      <th></th>\n",
       "      <th>posting_id</th>\n",
       "      <th>image</th>\n",
       "      <th>image_phash</th>\n",
       "      <th>title</th>\n",
       "      <th>label_group</th>\n",
       "      <th>path</th>\n",
       "    </tr>\n",
       "  </thead>\n",
       "  <tbody>\n",
       "    <tr>\n",
       "      <th>0</th>\n",
       "      <td>train_129225211</td>\n",
       "      <td>0000a68812bc7e98c42888dfb1c07da0.jpg</td>\n",
       "      <td>94974f937d4c2433</td>\n",
       "      <td>Paper Bag Victoria Secret</td>\n",
       "      <td>249114794</td>\n",
       "      <td>../input/shopee-product-matching/train_images/...</td>\n",
       "    </tr>\n",
       "    <tr>\n",
       "      <th>1</th>\n",
       "      <td>train_3386243561</td>\n",
       "      <td>00039780dfc94d01db8676fe789ecd05.jpg</td>\n",
       "      <td>af3f9460c2838f0f</td>\n",
       "      <td>Double Tape 3M VHB 12 mm x 4,5 m ORIGINAL / DO...</td>\n",
       "      <td>2937985045</td>\n",
       "      <td>../input/shopee-product-matching/train_images/...</td>\n",
       "    </tr>\n",
       "    <tr>\n",
       "      <th>2</th>\n",
       "      <td>train_2288590299</td>\n",
       "      <td>000a190fdd715a2a36faed16e2c65df7.jpg</td>\n",
       "      <td>b94cb00ed3e50f78</td>\n",
       "      <td>Maling TTS Canned Pork Luncheon Meat 397 gr</td>\n",
       "      <td>2395904891</td>\n",
       "      <td>../input/shopee-product-matching/train_images/...</td>\n",
       "    </tr>\n",
       "    <tr>\n",
       "      <th>3</th>\n",
       "      <td>train_2406599165</td>\n",
       "      <td>00117e4fc239b1b641ff08340b429633.jpg</td>\n",
       "      <td>8514fc58eafea283</td>\n",
       "      <td>Daster Batik Lengan pendek - Motif Acak / Camp...</td>\n",
       "      <td>4093212188</td>\n",
       "      <td>../input/shopee-product-matching/train_images/...</td>\n",
       "    </tr>\n",
       "    <tr>\n",
       "      <th>4</th>\n",
       "      <td>train_3369186413</td>\n",
       "      <td>00136d1cf4edede0203f32f05f660588.jpg</td>\n",
       "      <td>a6f319f924ad708c</td>\n",
       "      <td>Nescafe \\xc3\\x89clair Latte 220ml</td>\n",
       "      <td>3648931069</td>\n",
       "      <td>../input/shopee-product-matching/train_images/...</td>\n",
       "    </tr>\n",
       "  </tbody>\n",
       "</table>\n",
       "</div>"
      ],
      "text/plain": [
       "         posting_id                                 image       image_phash  \\\n",
       "0   train_129225211  0000a68812bc7e98c42888dfb1c07da0.jpg  94974f937d4c2433   \n",
       "1  train_3386243561  00039780dfc94d01db8676fe789ecd05.jpg  af3f9460c2838f0f   \n",
       "2  train_2288590299  000a190fdd715a2a36faed16e2c65df7.jpg  b94cb00ed3e50f78   \n",
       "3  train_2406599165  00117e4fc239b1b641ff08340b429633.jpg  8514fc58eafea283   \n",
       "4  train_3369186413  00136d1cf4edede0203f32f05f660588.jpg  a6f319f924ad708c   \n",
       "\n",
       "                                               title  label_group  \\\n",
       "0                          Paper Bag Victoria Secret    249114794   \n",
       "1  Double Tape 3M VHB 12 mm x 4,5 m ORIGINAL / DO...   2937985045   \n",
       "2        Maling TTS Canned Pork Luncheon Meat 397 gr   2395904891   \n",
       "3  Daster Batik Lengan pendek - Motif Acak / Camp...   4093212188   \n",
       "4                  Nescafe \\xc3\\x89clair Latte 220ml   3648931069   \n",
       "\n",
       "                                                path  \n",
       "0  ../input/shopee-product-matching/train_images/...  \n",
       "1  ../input/shopee-product-matching/train_images/...  \n",
       "2  ../input/shopee-product-matching/train_images/...  \n",
       "3  ../input/shopee-product-matching/train_images/...  \n",
       "4  ../input/shopee-product-matching/train_images/...  "
      ]
     },
     "execution_count": 3,
     "metadata": {},
     "output_type": "execute_result"
    }
   ],
   "source": [
    "import os\n",
    "img_path = '../input/shopee-product-matching/train_images'\n",
    "paths = [os.path.join(img_path,x) for x in df.image]\n",
    "df['path'] = paths\n",
    "df.head()"
   ]
  },
  {
   "cell_type": "code",
   "execution_count": 4,
   "metadata": {
    "execution": {
     "iopub.execute_input": "2021-04-11T07:56:40.351823Z",
     "iopub.status.busy": "2021-04-11T07:56:40.350679Z",
     "iopub.status.idle": "2021-04-11T07:56:40.355735Z",
     "shell.execute_reply": "2021-04-11T07:56:40.356127Z"
    },
    "papermill": {
     "duration": 0.020855,
     "end_time": "2021-04-11T07:56:40.356258",
     "exception": false,
     "start_time": "2021-04-11T07:56:40.335403",
     "status": "completed"
    },
    "tags": []
   },
   "outputs": [
    {
     "data": {
      "text/plain": [
       "11014"
      ]
     },
     "execution_count": 4,
     "metadata": {},
     "output_type": "execute_result"
    }
   ],
   "source": [
    "n_labels = df.label_group.nunique()\n",
    "n_labels"
   ]
  },
  {
   "cell_type": "code",
   "execution_count": 5,
   "metadata": {
    "execution": {
     "iopub.execute_input": "2021-04-11T07:56:40.382322Z",
     "iopub.status.busy": "2021-04-11T07:56:40.381572Z",
     "iopub.status.idle": "2021-04-11T07:56:40.391759Z",
     "shell.execute_reply": "2021-04-11T07:56:40.391352Z"
    },
    "papermill": {
     "duration": 0.026034,
     "end_time": "2021-04-11T07:56:40.391868",
     "exception": false,
     "start_time": "2021-04-11T07:56:40.365834",
     "status": "completed"
    },
    "tags": []
   },
   "outputs": [
    {
     "data": {
      "text/plain": [
       "28735"
      ]
     },
     "execution_count": 5,
     "metadata": {},
     "output_type": "execute_result"
    }
   ],
   "source": [
    "n_hash = df.image_phash.nunique()\n",
    "n_hash"
   ]
  },
  {
   "cell_type": "code",
   "execution_count": 6,
   "metadata": {
    "execution": {
     "iopub.execute_input": "2021-04-11T07:56:40.418530Z",
     "iopub.status.busy": "2021-04-11T07:56:40.416796Z",
     "iopub.status.idle": "2021-04-11T07:56:40.419153Z",
     "shell.execute_reply": "2021-04-11T07:56:40.419554Z"
    },
    "papermill": {
     "duration": 0.017869,
     "end_time": "2021-04-11T07:56:40.419674",
     "exception": false,
     "start_time": "2021-04-11T07:56:40.401805",
     "status": "completed"
    },
    "tags": []
   },
   "outputs": [],
   "source": [
    "train_aug = A.Compose(\n",
    "    [  \n",
    "\n",
    "        A.Resize(224,224,p=1.0),\n",
    "     A.Normalize(p=1.0),\n",
    "        ToTensorV2(p=1.0)\n",
    "    ]\n",
    ")"
   ]
  },
  {
   "cell_type": "code",
   "execution_count": 7,
   "metadata": {
    "execution": {
     "iopub.execute_input": "2021-04-11T07:56:40.447197Z",
     "iopub.status.busy": "2021-04-11T07:56:40.446269Z",
     "iopub.status.idle": "2021-04-11T07:56:40.450510Z",
     "shell.execute_reply": "2021-04-11T07:56:40.449904Z"
    },
    "papermill": {
     "duration": 0.020031,
     "end_time": "2021-04-11T07:56:40.450622",
     "exception": false,
     "start_time": "2021-04-11T07:56:40.430591",
     "status": "completed"
    },
    "tags": []
   },
   "outputs": [],
   "source": [
    "class Shop(Dataset):\n",
    "    def __init__(self,df,augs=None):\n",
    "        self.df = df\n",
    "        self.augs = augs\n",
    "    \n",
    "    def __len__(self):\n",
    "        return len(self.df)\n",
    "    \n",
    "    def __getitem__(self,idx):\n",
    "        img_src = self.df.path.iloc[idx]\n",
    "        image = cv2.imread(img_src)\n",
    "        image = cv2.cvtColor(image, cv2.COLOR_BGR2RGB).astype(np.uint8)\n",
    "        \n",
    "        p_id =  self.df.posting_id.iloc[idx]\n",
    "        \n",
    "        if (self.augs):\n",
    "            transformed = self.augs(image=image)\n",
    "            image = transformed['image']\n",
    "        \n",
    "        return image,p_id "
   ]
  },
  {
   "cell_type": "code",
   "execution_count": 8,
   "metadata": {
    "execution": {
     "iopub.execute_input": "2021-04-11T07:56:40.476558Z",
     "iopub.status.busy": "2021-04-11T07:56:40.475896Z",
     "iopub.status.idle": "2021-04-11T07:56:40.479378Z",
     "shell.execute_reply": "2021-04-11T07:56:40.478933Z"
    },
    "papermill": {
     "duration": 0.018879,
     "end_time": "2021-04-11T07:56:40.479478",
     "exception": false,
     "start_time": "2021-04-11T07:56:40.460599",
     "status": "completed"
    },
    "tags": []
   },
   "outputs": [],
   "source": [
    "class emb_Model(nn.Module):\n",
    "    def __init__(self,op_size= 42,f_size=64):\n",
    "        super().__init__()\n",
    "        self.f = f_size\n",
    "        self.op = 42\n",
    "        \n",
    "        self.m = timm.create_model('tf_efficientnet_b0_ns', pretrained=False)\n",
    "        num_features = self.m.classifier.in_features\n",
    "        self.m.classifier = nn.Linear(num_features,self.f)\n",
    "        self.fc = nn.Linear(self.f,self.op)\n",
    "        \n",
    "    def forward(self,x):\n",
    "        feat = self.m(x)\n",
    "        y = F.relu(feat)\n",
    "        y = self.fc(y)\n",
    "        \n",
    "        return feat,y"
   ]
  },
  {
   "cell_type": "code",
   "execution_count": 9,
   "metadata": {
    "execution": {
     "iopub.execute_input": "2021-04-11T07:56:40.503753Z",
     "iopub.status.busy": "2021-04-11T07:56:40.502901Z",
     "iopub.status.idle": "2021-04-11T07:56:40.510178Z",
     "shell.execute_reply": "2021-04-11T07:56:40.510557Z"
    },
    "papermill": {
     "duration": 0.020968,
     "end_time": "2021-04-11T07:56:40.510677",
     "exception": false,
     "start_time": "2021-04-11T07:56:40.489709",
     "status": "completed"
    },
    "tags": []
   },
   "outputs": [],
   "source": [
    "dx =df.copy()\n",
    "dx.set_index('posting_id', inplace=True)"
   ]
  },
  {
   "cell_type": "code",
   "execution_count": 10,
   "metadata": {
    "execution": {
     "iopub.execute_input": "2021-04-11T07:56:40.536478Z",
     "iopub.status.busy": "2021-04-11T07:56:40.535631Z",
     "iopub.status.idle": "2021-04-11T07:56:40.673887Z",
     "shell.execute_reply": "2021-04-11T07:56:40.674311Z"
    },
    "papermill": {
     "duration": 0.153541,
     "end_time": "2021-04-11T07:56:40.674461",
     "exception": false,
     "start_time": "2021-04-11T07:56:40.520920",
     "status": "completed"
    },
    "tags": []
   },
   "outputs": [
    {
     "data": {
      "text/html": [
       "<div>\n",
       "<style scoped>\n",
       "    .dataframe tbody tr th:only-of-type {\n",
       "        vertical-align: middle;\n",
       "    }\n",
       "\n",
       "    .dataframe tbody tr th {\n",
       "        vertical-align: top;\n",
       "    }\n",
       "\n",
       "    .dataframe thead th {\n",
       "        text-align: right;\n",
       "    }\n",
       "</style>\n",
       "<table border=\"1\" class=\"dataframe\">\n",
       "  <thead>\n",
       "    <tr style=\"text-align: right;\">\n",
       "      <th></th>\n",
       "      <th>image</th>\n",
       "      <th>image_phash</th>\n",
       "      <th>title</th>\n",
       "      <th>label_group</th>\n",
       "      <th>path</th>\n",
       "      <th>0</th>\n",
       "      <th>1</th>\n",
       "      <th>2</th>\n",
       "      <th>3</th>\n",
       "      <th>4</th>\n",
       "      <th>...</th>\n",
       "      <th>54</th>\n",
       "      <th>55</th>\n",
       "      <th>56</th>\n",
       "      <th>57</th>\n",
       "      <th>58</th>\n",
       "      <th>59</th>\n",
       "      <th>60</th>\n",
       "      <th>61</th>\n",
       "      <th>62</th>\n",
       "      <th>63</th>\n",
       "    </tr>\n",
       "    <tr>\n",
       "      <th>posting_id</th>\n",
       "      <th></th>\n",
       "      <th></th>\n",
       "      <th></th>\n",
       "      <th></th>\n",
       "      <th></th>\n",
       "      <th></th>\n",
       "      <th></th>\n",
       "      <th></th>\n",
       "      <th></th>\n",
       "      <th></th>\n",
       "      <th></th>\n",
       "      <th></th>\n",
       "      <th></th>\n",
       "      <th></th>\n",
       "      <th></th>\n",
       "      <th></th>\n",
       "      <th></th>\n",
       "      <th></th>\n",
       "      <th></th>\n",
       "      <th></th>\n",
       "      <th></th>\n",
       "    </tr>\n",
       "  </thead>\n",
       "  <tbody>\n",
       "    <tr>\n",
       "      <th>train_129225211</th>\n",
       "      <td>0000a68812bc7e98c42888dfb1c07da0.jpg</td>\n",
       "      <td>94974f937d4c2433</td>\n",
       "      <td>Paper Bag Victoria Secret</td>\n",
       "      <td>249114794</td>\n",
       "      <td>../input/shopee-product-matching/train_images/...</td>\n",
       "      <td>0</td>\n",
       "      <td>0</td>\n",
       "      <td>0</td>\n",
       "      <td>0</td>\n",
       "      <td>0</td>\n",
       "      <td>...</td>\n",
       "      <td>0</td>\n",
       "      <td>0</td>\n",
       "      <td>0</td>\n",
       "      <td>0</td>\n",
       "      <td>0</td>\n",
       "      <td>0</td>\n",
       "      <td>0</td>\n",
       "      <td>0</td>\n",
       "      <td>0</td>\n",
       "      <td>0</td>\n",
       "    </tr>\n",
       "    <tr>\n",
       "      <th>train_3386243561</th>\n",
       "      <td>00039780dfc94d01db8676fe789ecd05.jpg</td>\n",
       "      <td>af3f9460c2838f0f</td>\n",
       "      <td>Double Tape 3M VHB 12 mm x 4,5 m ORIGINAL / DO...</td>\n",
       "      <td>2937985045</td>\n",
       "      <td>../input/shopee-product-matching/train_images/...</td>\n",
       "      <td>0</td>\n",
       "      <td>0</td>\n",
       "      <td>0</td>\n",
       "      <td>0</td>\n",
       "      <td>0</td>\n",
       "      <td>...</td>\n",
       "      <td>0</td>\n",
       "      <td>0</td>\n",
       "      <td>0</td>\n",
       "      <td>0</td>\n",
       "      <td>0</td>\n",
       "      <td>0</td>\n",
       "      <td>0</td>\n",
       "      <td>0</td>\n",
       "      <td>0</td>\n",
       "      <td>0</td>\n",
       "    </tr>\n",
       "    <tr>\n",
       "      <th>train_2288590299</th>\n",
       "      <td>000a190fdd715a2a36faed16e2c65df7.jpg</td>\n",
       "      <td>b94cb00ed3e50f78</td>\n",
       "      <td>Maling TTS Canned Pork Luncheon Meat 397 gr</td>\n",
       "      <td>2395904891</td>\n",
       "      <td>../input/shopee-product-matching/train_images/...</td>\n",
       "      <td>0</td>\n",
       "      <td>0</td>\n",
       "      <td>0</td>\n",
       "      <td>0</td>\n",
       "      <td>0</td>\n",
       "      <td>...</td>\n",
       "      <td>0</td>\n",
       "      <td>0</td>\n",
       "      <td>0</td>\n",
       "      <td>0</td>\n",
       "      <td>0</td>\n",
       "      <td>0</td>\n",
       "      <td>0</td>\n",
       "      <td>0</td>\n",
       "      <td>0</td>\n",
       "      <td>0</td>\n",
       "    </tr>\n",
       "    <tr>\n",
       "      <th>train_2406599165</th>\n",
       "      <td>00117e4fc239b1b641ff08340b429633.jpg</td>\n",
       "      <td>8514fc58eafea283</td>\n",
       "      <td>Daster Batik Lengan pendek - Motif Acak / Camp...</td>\n",
       "      <td>4093212188</td>\n",
       "      <td>../input/shopee-product-matching/train_images/...</td>\n",
       "      <td>0</td>\n",
       "      <td>0</td>\n",
       "      <td>0</td>\n",
       "      <td>0</td>\n",
       "      <td>0</td>\n",
       "      <td>...</td>\n",
       "      <td>0</td>\n",
       "      <td>0</td>\n",
       "      <td>0</td>\n",
       "      <td>0</td>\n",
       "      <td>0</td>\n",
       "      <td>0</td>\n",
       "      <td>0</td>\n",
       "      <td>0</td>\n",
       "      <td>0</td>\n",
       "      <td>0</td>\n",
       "    </tr>\n",
       "    <tr>\n",
       "      <th>train_3369186413</th>\n",
       "      <td>00136d1cf4edede0203f32f05f660588.jpg</td>\n",
       "      <td>a6f319f924ad708c</td>\n",
       "      <td>Nescafe \\xc3\\x89clair Latte 220ml</td>\n",
       "      <td>3648931069</td>\n",
       "      <td>../input/shopee-product-matching/train_images/...</td>\n",
       "      <td>0</td>\n",
       "      <td>0</td>\n",
       "      <td>0</td>\n",
       "      <td>0</td>\n",
       "      <td>0</td>\n",
       "      <td>...</td>\n",
       "      <td>0</td>\n",
       "      <td>0</td>\n",
       "      <td>0</td>\n",
       "      <td>0</td>\n",
       "      <td>0</td>\n",
       "      <td>0</td>\n",
       "      <td>0</td>\n",
       "      <td>0</td>\n",
       "      <td>0</td>\n",
       "      <td>0</td>\n",
       "    </tr>\n",
       "  </tbody>\n",
       "</table>\n",
       "<p>5 rows × 69 columns</p>\n",
       "</div>"
      ],
      "text/plain": [
       "                                                 image       image_phash  \\\n",
       "posting_id                                                                 \n",
       "train_129225211   0000a68812bc7e98c42888dfb1c07da0.jpg  94974f937d4c2433   \n",
       "train_3386243561  00039780dfc94d01db8676fe789ecd05.jpg  af3f9460c2838f0f   \n",
       "train_2288590299  000a190fdd715a2a36faed16e2c65df7.jpg  b94cb00ed3e50f78   \n",
       "train_2406599165  00117e4fc239b1b641ff08340b429633.jpg  8514fc58eafea283   \n",
       "train_3369186413  00136d1cf4edede0203f32f05f660588.jpg  a6f319f924ad708c   \n",
       "\n",
       "                                                              title  \\\n",
       "posting_id                                                            \n",
       "train_129225211                           Paper Bag Victoria Secret   \n",
       "train_3386243561  Double Tape 3M VHB 12 mm x 4,5 m ORIGINAL / DO...   \n",
       "train_2288590299        Maling TTS Canned Pork Luncheon Meat 397 gr   \n",
       "train_2406599165  Daster Batik Lengan pendek - Motif Acak / Camp...   \n",
       "train_3369186413                  Nescafe \\xc3\\x89clair Latte 220ml   \n",
       "\n",
       "                  label_group  \\\n",
       "posting_id                      \n",
       "train_129225211     249114794   \n",
       "train_3386243561   2937985045   \n",
       "train_2288590299   2395904891   \n",
       "train_2406599165   4093212188   \n",
       "train_3369186413   3648931069   \n",
       "\n",
       "                                                               path  0  1  2  \\\n",
       "posting_id                                                                     \n",
       "train_129225211   ../input/shopee-product-matching/train_images/...  0  0  0   \n",
       "train_3386243561  ../input/shopee-product-matching/train_images/...  0  0  0   \n",
       "train_2288590299  ../input/shopee-product-matching/train_images/...  0  0  0   \n",
       "train_2406599165  ../input/shopee-product-matching/train_images/...  0  0  0   \n",
       "train_3369186413  ../input/shopee-product-matching/train_images/...  0  0  0   \n",
       "\n",
       "                  3  4  ...  54  55  56  57  58  59  60  61  62  63  \n",
       "posting_id              ...                                          \n",
       "train_129225211   0  0  ...   0   0   0   0   0   0   0   0   0   0  \n",
       "train_3386243561  0  0  ...   0   0   0   0   0   0   0   0   0   0  \n",
       "train_2288590299  0  0  ...   0   0   0   0   0   0   0   0   0   0  \n",
       "train_2406599165  0  0  ...   0   0   0   0   0   0   0   0   0   0  \n",
       "train_3369186413  0  0  ...   0   0   0   0   0   0   0   0   0   0  \n",
       "\n",
       "[5 rows x 69 columns]"
      ]
     },
     "execution_count": 10,
     "metadata": {},
     "output_type": "execute_result"
    }
   ],
   "source": [
    "embs =[ii for ii in range(64)] ##equal to the output size of the neural net\n",
    "dx[embs] = 0\n",
    "dx.head()"
   ]
  },
  {
   "cell_type": "code",
   "execution_count": 11,
   "metadata": {
    "execution": {
     "iopub.execute_input": "2021-04-11T07:56:40.701764Z",
     "iopub.status.busy": "2021-04-11T07:56:40.701237Z",
     "iopub.status.idle": "2021-04-11T07:56:40.704630Z",
     "shell.execute_reply": "2021-04-11T07:56:40.705014Z"
    },
    "papermill": {
     "duration": 0.018558,
     "end_time": "2021-04-11T07:56:40.705211",
     "exception": false,
     "start_time": "2021-04-11T07:56:40.686653",
     "status": "completed"
    },
    "tags": []
   },
   "outputs": [],
   "source": [
    "da = Shop(df,augs=train_aug)"
   ]
  },
  {
   "cell_type": "code",
   "execution_count": 12,
   "metadata": {
    "execution": {
     "iopub.execute_input": "2021-04-11T07:56:40.731193Z",
     "iopub.status.busy": "2021-04-11T07:56:40.730651Z",
     "iopub.status.idle": "2021-04-11T07:56:40.947105Z",
     "shell.execute_reply": "2021-04-11T07:56:40.946608Z"
    },
    "papermill": {
     "duration": 0.230975,
     "end_time": "2021-04-11T07:56:40.947283",
     "exception": false,
     "start_time": "2021-04-11T07:56:40.716308",
     "status": "completed"
    },
    "tags": []
   },
   "outputs": [
    {
     "data": {
      "text/plain": [
       "<matplotlib.image.AxesImage at 0x7fce3ad51a50>"
      ]
     },
     "execution_count": 12,
     "metadata": {},
     "output_type": "execute_result"
    },
    {
     "data": {
      "image/png": "[encoded data removed]",
      "text/plain": [
       "<Figure size 432x288 with 1 Axes>"
      ]
     },
     "metadata": {
      "needs_background": "light"
     },
     "output_type": "display_data"
    }
   ],
   "source": [
    "plt.imshow(da[10][0].permute(1,2,0))"
   ]
  },
  {
   "cell_type": "code",
   "execution_count": 13,
   "metadata": {
    "execution": {
     "iopub.execute_input": "2021-04-11T07:56:40.975894Z",
     "iopub.status.busy": "2021-04-11T07:56:40.975393Z",
     "iopub.status.idle": "2021-04-11T07:56:40.978924Z",
     "shell.execute_reply": "2021-04-11T07:56:40.978538Z"
    },
    "papermill": {
     "duration": 0.019313,
     "end_time": "2021-04-11T07:56:40.979072",
     "exception": false,
     "start_time": "2021-04-11T07:56:40.959759",
     "status": "completed"
    },
    "tags": []
   },
   "outputs": [],
   "source": [
    "loader =  DataLoader(da,shuffle=False,\n",
    "                        num_workers=4,\n",
    "                        batch_size=1)\n"
   ]
  },
  {
   "cell_type": "code",
   "execution_count": 14,
   "metadata": {
    "execution": {
     "iopub.execute_input": "2021-04-11T07:56:41.018506Z",
     "iopub.status.busy": "2021-04-11T07:56:41.009541Z",
     "iopub.status.idle": "2021-04-11T08:16:13.084799Z",
     "shell.execute_reply": "2021-04-11T08:16:13.083660Z"
    },
    "papermill": {
     "duration": 1172.093424,
     "end_time": "2021-04-11T08:16:13.084956",
     "exception": false,
     "start_time": "2021-04-11T07:56:40.991532",
     "status": "completed"
    },
    "tags": []
   },
   "outputs": [],
   "source": [
    "modelx =  emb_Model()\n",
    "#WEIGHTS_FILE = '../input/classification-pipeline-on-previous-shoplee-data/model with val_acc 0.5636920011386279.pth'\n",
    "WEIGHTS_FILE = '../input/classification-pipeline-on-previous-shoplee-data/model with val_acc 0.771420438371762.pth'\n",
    "modelx.load_state_dict(torch.load(WEIGHTS_FILE))\n",
    "modelx.to(device)\n",
    "modelx.eval()\n",
    "for img,indx in loader:\n",
    "    img = img.to(device)\n",
    "    with torch.no_grad():\n",
    "        op,_ = modelx(img)\n",
    "    op = op.squeeze(0)\n",
    "    dx.loc[indx,embs] = op.detach().cpu().numpy()\n",
    "    \n",
    "    "
   ]
  },
  {
   "cell_type": "code",
   "execution_count": 15,
   "metadata": {
    "execution": {
     "iopub.execute_input": "2021-04-11T08:16:13.116475Z",
     "iopub.status.busy": "2021-04-11T08:16:13.115767Z",
     "iopub.status.idle": "2021-04-11T08:16:18.237946Z",
     "shell.execute_reply": "2021-04-11T08:16:18.236864Z"
    },
    "papermill": {
     "duration": 5.139826,
     "end_time": "2021-04-11T08:16:18.238118",
     "exception": false,
     "start_time": "2021-04-11T08:16:13.098292",
     "status": "completed"
    },
    "tags": []
   },
   "outputs": [
    {
     "data": {
      "text/html": [
       "<div>\n",
       "<style scoped>\n",
       "    .dataframe tbody tr th:only-of-type {\n",
       "        vertical-align: middle;\n",
       "    }\n",
       "\n",
       "    .dataframe tbody tr th {\n",
       "        vertical-align: top;\n",
       "    }\n",
       "\n",
       "    .dataframe thead th {\n",
       "        text-align: right;\n",
       "    }\n",
       "</style>\n",
       "<table border=\"1\" class=\"dataframe\">\n",
       "  <thead>\n",
       "    <tr style=\"text-align: right;\">\n",
       "      <th></th>\n",
       "      <th>image</th>\n",
       "      <th>image_phash</th>\n",
       "      <th>title</th>\n",
       "      <th>label_group</th>\n",
       "      <th>path</th>\n",
       "      <th>0</th>\n",
       "      <th>1</th>\n",
       "      <th>2</th>\n",
       "      <th>3</th>\n",
       "      <th>4</th>\n",
       "      <th>...</th>\n",
       "      <th>54</th>\n",
       "      <th>55</th>\n",
       "      <th>56</th>\n",
       "      <th>57</th>\n",
       "      <th>58</th>\n",
       "      <th>59</th>\n",
       "      <th>60</th>\n",
       "      <th>61</th>\n",
       "      <th>62</th>\n",
       "      <th>63</th>\n",
       "    </tr>\n",
       "    <tr>\n",
       "      <th>posting_id</th>\n",
       "      <th></th>\n",
       "      <th></th>\n",
       "      <th></th>\n",
       "      <th></th>\n",
       "      <th></th>\n",
       "      <th></th>\n",
       "      <th></th>\n",
       "      <th></th>\n",
       "      <th></th>\n",
       "      <th></th>\n",
       "      <th></th>\n",
       "      <th></th>\n",
       "      <th></th>\n",
       "      <th></th>\n",
       "      <th></th>\n",
       "      <th></th>\n",
       "      <th></th>\n",
       "      <th></th>\n",
       "      <th></th>\n",
       "      <th></th>\n",
       "      <th></th>\n",
       "    </tr>\n",
       "  </thead>\n",
       "  <tbody>\n",
       "    <tr>\n",
       "      <th>train_129225211</th>\n",
       "      <td>0000a68812bc7e98c42888dfb1c07da0.jpg</td>\n",
       "      <td>94974f937d4c2433</td>\n",
       "      <td>Paper Bag Victoria Secret</td>\n",
       "      <td>249114794</td>\n",
       "      <td>../input/shopee-product-matching/train_images/...</td>\n",
       "      <td>-1.976923</td>\n",
       "      <td>-0.394076</td>\n",
       "      <td>-1.116356</td>\n",
       "      <td>1.390578</td>\n",
       "      <td>5.570573</td>\n",
       "      <td>...</td>\n",
       "      <td>1.148851</td>\n",
       "      <td>-0.666444</td>\n",
       "      <td>-1.355045</td>\n",
       "      <td>0.869244</td>\n",
       "      <td>1.331210</td>\n",
       "      <td>2.937347</td>\n",
       "      <td>0.199661</td>\n",
       "      <td>5.449000</td>\n",
       "      <td>2.549921</td>\n",
       "      <td>1.856575</td>\n",
       "    </tr>\n",
       "    <tr>\n",
       "      <th>train_3386243561</th>\n",
       "      <td>00039780dfc94d01db8676fe789ecd05.jpg</td>\n",
       "      <td>af3f9460c2838f0f</td>\n",
       "      <td>Double Tape 3M VHB 12 mm x 4,5 m ORIGINAL / DO...</td>\n",
       "      <td>2937985045</td>\n",
       "      <td>../input/shopee-product-matching/train_images/...</td>\n",
       "      <td>1.902338</td>\n",
       "      <td>3.962437</td>\n",
       "      <td>-0.073144</td>\n",
       "      <td>-0.949685</td>\n",
       "      <td>0.374160</td>\n",
       "      <td>...</td>\n",
       "      <td>-1.721954</td>\n",
       "      <td>0.047379</td>\n",
       "      <td>-0.043569</td>\n",
       "      <td>-2.155312</td>\n",
       "      <td>3.219642</td>\n",
       "      <td>5.861103</td>\n",
       "      <td>-1.557483</td>\n",
       "      <td>1.170609</td>\n",
       "      <td>0.256603</td>\n",
       "      <td>1.538829</td>\n",
       "    </tr>\n",
       "    <tr>\n",
       "      <th>train_2288590299</th>\n",
       "      <td>000a190fdd715a2a36faed16e2c65df7.jpg</td>\n",
       "      <td>b94cb00ed3e50f78</td>\n",
       "      <td>Maling TTS Canned Pork Luncheon Meat 397 gr</td>\n",
       "      <td>2395904891</td>\n",
       "      <td>../input/shopee-product-matching/train_images/...</td>\n",
       "      <td>9.989271</td>\n",
       "      <td>1.747680</td>\n",
       "      <td>1.404027</td>\n",
       "      <td>9.970988</td>\n",
       "      <td>2.491323</td>\n",
       "      <td>...</td>\n",
       "      <td>-2.122145</td>\n",
       "      <td>-2.275242</td>\n",
       "      <td>-3.242596</td>\n",
       "      <td>2.032735</td>\n",
       "      <td>7.445390</td>\n",
       "      <td>3.882680</td>\n",
       "      <td>-1.477237</td>\n",
       "      <td>-3.395977</td>\n",
       "      <td>0.612772</td>\n",
       "      <td>6.033319</td>\n",
       "    </tr>\n",
       "    <tr>\n",
       "      <th>train_2406599165</th>\n",
       "      <td>00117e4fc239b1b641ff08340b429633.jpg</td>\n",
       "      <td>8514fc58eafea283</td>\n",
       "      <td>Daster Batik Lengan pendek - Motif Acak / Camp...</td>\n",
       "      <td>4093212188</td>\n",
       "      <td>../input/shopee-product-matching/train_images/...</td>\n",
       "      <td>-1.703672</td>\n",
       "      <td>-8.496656</td>\n",
       "      <td>-0.708127</td>\n",
       "      <td>-1.441379</td>\n",
       "      <td>-8.838904</td>\n",
       "      <td>...</td>\n",
       "      <td>4.808806</td>\n",
       "      <td>1.891527</td>\n",
       "      <td>10.753779</td>\n",
       "      <td>2.330132</td>\n",
       "      <td>-10.164821</td>\n",
       "      <td>-2.032707</td>\n",
       "      <td>-4.423727</td>\n",
       "      <td>-5.751026</td>\n",
       "      <td>-2.981659</td>\n",
       "      <td>13.960304</td>\n",
       "    </tr>\n",
       "    <tr>\n",
       "      <th>train_3369186413</th>\n",
       "      <td>00136d1cf4edede0203f32f05f660588.jpg</td>\n",
       "      <td>a6f319f924ad708c</td>\n",
       "      <td>Nescafe \\xc3\\x89clair Latte 220ml</td>\n",
       "      <td>3648931069</td>\n",
       "      <td>../input/shopee-product-matching/train_images/...</td>\n",
       "      <td>-2.291808</td>\n",
       "      <td>-1.650976</td>\n",
       "      <td>-0.249996</td>\n",
       "      <td>-3.702528</td>\n",
       "      <td>0.345318</td>\n",
       "      <td>...</td>\n",
       "      <td>2.482360</td>\n",
       "      <td>0.198236</td>\n",
       "      <td>-2.219872</td>\n",
       "      <td>4.260627</td>\n",
       "      <td>-3.412425</td>\n",
       "      <td>-1.768922</td>\n",
       "      <td>-0.237294</td>\n",
       "      <td>6.575355</td>\n",
       "      <td>1.896471</td>\n",
       "      <td>1.626202</td>\n",
       "    </tr>\n",
       "  </tbody>\n",
       "</table>\n",
       "<p>5 rows × 69 columns</p>\n",
       "</div>"
      ],
      "text/plain": [
       "                                                 image       image_phash  \\\n",
       "posting_id                                                                 \n",
       "train_129225211   0000a68812bc7e98c42888dfb1c07da0.jpg  94974f937d4c2433   \n",
       "train_3386243561  00039780dfc94d01db8676fe789ecd05.jpg  af3f9460c2838f0f   \n",
       "train_2288590299  000a190fdd715a2a36faed16e2c65df7.jpg  b94cb00ed3e50f78   \n",
       "train_2406599165  00117e4fc239b1b641ff08340b429633.jpg  8514fc58eafea283   \n",
       "train_3369186413  00136d1cf4edede0203f32f05f660588.jpg  a6f319f924ad708c   \n",
       "\n",
       "                                                              title  \\\n",
       "posting_id                                                            \n",
       "train_129225211                           Paper Bag Victoria Secret   \n",
       "train_3386243561  Double Tape 3M VHB 12 mm x 4,5 m ORIGINAL / DO...   \n",
       "train_2288590299        Maling TTS Canned Pork Luncheon Meat 397 gr   \n",
       "train_2406599165  Daster Batik Lengan pendek - Motif Acak / Camp...   \n",
       "train_3369186413                  Nescafe \\xc3\\x89clair Latte 220ml   \n",
       "\n",
       "                  label_group  \\\n",
       "posting_id                      \n",
       "train_129225211     249114794   \n",
       "train_3386243561   2937985045   \n",
       "train_2288590299   2395904891   \n",
       "train_2406599165   4093212188   \n",
       "train_3369186413   3648931069   \n",
       "\n",
       "                                                               path         0  \\\n",
       "posting_id                                                                      \n",
       "train_129225211   ../input/shopee-product-matching/train_images/... -1.976923   \n",
       "train_3386243561  ../input/shopee-product-matching/train_images/...  1.902338   \n",
       "train_2288590299  ../input/shopee-product-matching/train_images/...  9.989271   \n",
       "train_2406599165  ../input/shopee-product-matching/train_images/... -1.703672   \n",
       "train_3369186413  ../input/shopee-product-matching/train_images/... -2.291808   \n",
       "\n",
       "                         1         2         3         4  ...        54  \\\n",
       "posting_id                                                ...             \n",
       "train_129225211  -0.394076 -1.116356  1.390578  5.570573  ...  1.148851   \n",
       "train_3386243561  3.962437 -0.073144 -0.949685  0.374160  ... -1.721954   \n",
       "train_2288590299  1.747680  1.404027  9.970988  2.491323  ... -2.122145   \n",
       "train_2406599165 -8.496656 -0.708127 -1.441379 -8.838904  ...  4.808806   \n",
       "train_3369186413 -1.650976 -0.249996 -3.702528  0.345318  ...  2.482360   \n",
       "\n",
       "                        55         56        57         58        59  \\\n",
       "posting_id                                                             \n",
       "train_129225211  -0.666444  -1.355045  0.869244   1.331210  2.937347   \n",
       "train_3386243561  0.047379  -0.043569 -2.155312   3.219642  5.861103   \n",
       "train_2288590299 -2.275242  -3.242596  2.032735   7.445390  3.882680   \n",
       "train_2406599165  1.891527  10.753779  2.330132 -10.164821 -2.032707   \n",
       "train_3369186413  0.198236  -2.219872  4.260627  -3.412425 -1.768922   \n",
       "\n",
       "                        60        61        62         63  \n",
       "posting_id                                                 \n",
       "train_129225211   0.199661  5.449000  2.549921   1.856575  \n",
       "train_3386243561 -1.557483  1.170609  0.256603   1.538829  \n",
       "train_2288590299 -1.477237 -3.395977  0.612772   6.033319  \n",
       "train_2406599165 -4.423727 -5.751026 -2.981659  13.960304  \n",
       "train_3369186413 -0.237294  6.575355  1.896471   1.626202  \n",
       "\n",
       "[5 rows x 69 columns]"
      ]
     },
     "execution_count": 15,
     "metadata": {},
     "output_type": "execute_result"
    }
   ],
   "source": [
    "dx.to_csv('embeddings.csv')\n",
    "dx.head()"
   ]
  }
 ],
 "metadata": {
  "kernelspec": {
   "display_name": "Python 3",
   "language": "python",
   "name": "python3"
  },
  "language_info": {
   "codemirror_mode": {
    "name": "ipython",
    "version": 3
   },
   "file_extension": ".py",
   "mimetype": "text/x-python",
   "name": "python",
   "nbconvert_exporter": "python",
   "pygments_lexer": "ipython3",
   "version": "3.7.9"
  },
  "papermill": {
   "default_parameters": {},
   "duration": 1190.166369,
   "end_time": "2021-04-11T08:16:20.112317",
   "environment_variables": {},
   "exception": null,
   "input_path": "__notebook__.ipynb",
   "output_path": "__notebook__.ipynb",
   "parameters": {},
   "start_time": "2021-04-11T07:56:29.945948",
   "version": "2.2.2"
  }
 },
 "nbformat": 4,
 "nbformat_minor": 4
}
